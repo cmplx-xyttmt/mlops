{
  "nbformat": 4,
  "nbformat_minor": 0,
  "metadata": {
    "colab": {
      "provenance": [],
      "authorship_tag": "ABX9TyOT4uIayifCnzELz8puve8+",
      "include_colab_link": true
    },
    "kernelspec": {
      "name": "python3",
      "display_name": "Python 3"
    },
    "language_info": {
      "name": "python"
    }
  },
  "cells": [
    {
      "cell_type": "markdown",
      "metadata": {
        "id": "view-in-github",
        "colab_type": "text"
      },
      "source": [
        "<a href=\"https://colab.research.google.com/github/cmplx-xyttmt/mlops/blob/main/starter_notebook.ipynb\" target=\"_parent\"><img src=\"https://colab.research.google.com/assets/colab-badge.svg\" alt=\"Open In Colab\"/></a>"
      ]
    },
    {
      "cell_type": "markdown",
      "source": [
        "# MLOps workflow\n",
        "\n",
        "We'll be using GCP and Vertex AI."
      ],
      "metadata": {
        "id": "3q0uJoF16mol"
      }
    },
    {
      "cell_type": "markdown",
      "source": [
        "## Setting up GCP"
      ],
      "metadata": {
        "id": "nC8UPiQ59vsM"
      }
    },
    {
      "cell_type": "code",
      "source": [
        "# Login to gcloud\n",
        "!gcloud auth login"
      ],
      "metadata": {
        "colab": {
          "base_uri": "https://localhost:8080/"
        },
        "id": "nSfsow_k6-oX",
        "outputId": "48bc0617-d7a4-4664-d321-6d03387ff24d"
      },
      "execution_count": 3,
      "outputs": [
        {
          "output_type": "stream",
          "name": "stdout",
          "text": [
            "Go to the following link in your browser:\n",
            "\n",
            "    https://accounts.google.com/o/oauth2/auth?response_type=code&client_id=32555940559.apps.googleusercontent.com&redirect_uri=https%3A%2F%2Fsdk.cloud.google.com%2Fauthcode.html&scope=openid+https%3A%2F%2Fwww.googleapis.com%2Fauth%2Fuserinfo.email+https%3A%2F%2Fwww.googleapis.com%2Fauth%2Fcloud-platform+https%3A%2F%2Fwww.googleapis.com%2Fauth%2Fappengine.admin+https%3A%2F%2Fwww.googleapis.com%2Fauth%2Fsqlservice.login+https%3A%2F%2Fwww.googleapis.com%2Fauth%2Fcompute+https%3A%2F%2Fwww.googleapis.com%2Fauth%2Faccounts.reauth&state=WfoY2S97RwtVeTvTaS28cgpHa2Zojw&prompt=consent&access_type=offline&code_challenge=SBOxZBdviOUgFyHdJajYC1MjtHFOGsjwgY09LWMMNP8&code_challenge_method=S256\n",
            "\n",
            "Enter authorization code: 4/0AbUR2VOQrCmqfCFZE3He_T7-i1fc39yBkZTRKIqb03GpTs789ymxMvmFoHLTqtkEiAkp_Q\n",
            "\n",
            "You are now logged in as [iowomugisha@sunbird.ai].\n",
            "Your current project is [None].  You can change this setting by running:\n",
            "  $ gcloud config set project PROJECT_ID\n"
          ]
        }
      ]
    },
    {
      "cell_type": "code",
      "source": [
        "# Set the working project\n",
        "!gcloud config set project sb-gcp-project-01"
      ],
      "metadata": {
        "colab": {
          "base_uri": "https://localhost:8080/"
        },
        "id": "pm_aQWKW7teT",
        "outputId": "56b9159a-37a6-4647-cef0-4d0994fd9e2d"
      },
      "execution_count": 4,
      "outputs": [
        {
          "output_type": "stream",
          "name": "stdout",
          "text": [
            "Updated property [core/project].\n"
          ]
        }
      ]
    },
    {
      "cell_type": "code",
      "source": [
        "# Confirm that the project is set\n",
        "!gcloud config list project"
      ],
      "metadata": {
        "colab": {
          "base_uri": "https://localhost:8080/"
        },
        "id": "PTKayU627_Vp",
        "outputId": "8a03e0fc-34be-4db4-ae26-3b62f3937e83"
      },
      "execution_count": 5,
      "outputs": [
        {
          "output_type": "stream",
          "name": "stdout",
          "text": [
            "[core]\n",
            "project = sb-gcp-project-01\n",
            "\n",
            "Your active configuration is: [default]\n"
          ]
        }
      ]
    },
    {
      "cell_type": "code",
      "source": [
        "# (Optional) Enable required services.\n",
        "!gcloud services enable \\\n",
        "  compute.googleapis.com \\\n",
        "  iam.googleapis.com \\\n",
        "  iamcredentials.googleapis.com \\\n",
        "  monitoring.googleapis.com \\\n",
        "  logging.googleapis.com \\\n",
        "  notebooks.googleapis.com \\\n",
        "  aiplatform.googleapis.com \\\n",
        "  bigquery.googleapis.com \\\n",
        "  artifactregistry.googleapis.com \\\n",
        "  cloudbuild.googleapis.com \\\n",
        "  container.googleapis.com"
      ],
      "metadata": {
        "id": "jW1EQyxJ-LzF"
      },
      "execution_count": null,
      "outputs": []
    },
    {
      "cell_type": "code",
      "source": [
        "# create a service account for custom training\n",
        "import os\n",
        "os.environ['SERVICE_ACCOUNT_ID'] = 'vertex-custom-training-sunbird'\n",
        "!echo $SERVICE_ACCOUNT_ID\n",
        "!gcloud iam service-accounts create $SERVICE_ACCOUNT_ID --description=\"A custom service account for Vertex custom training.\" --display-name=\"Vertex AI Custom Training\""
      ],
      "metadata": {
        "colab": {
          "base_uri": "https://localhost:8080/"
        },
        "id": "kC7L5ame8Np5",
        "outputId": "8212e524-69cf-471e-e3cd-1506f0728738"
      },
      "execution_count": 9,
      "outputs": [
        {
          "output_type": "stream",
          "name": "stdout",
          "text": [
            "vertex-custom-training-sunbird\n",
            "Created service account [vertex-custom-training-sunbird].\n"
          ]
        }
      ]
    },
    {
      "cell_type": "code",
      "source": [
        "# Grant service account access to Cloud Storage\n",
        "PROJECT_ID=!(gcloud config get-value core/project)\n",
        "PROJECT_ID = PROJECT_ID[0]\n",
        "os.environ['PROJECT_ID'] = PROJECT_ID\n",
        "\n",
        "!gcloud projects add-iam-policy-binding $PROJECT_ID --member=serviceAccount:$SERVICE_ACCOUNT_ID@$PROJECT_ID.iam.gserviceaccount.com --role=\"roles/storage.admin\""
      ],
      "metadata": {
        "colab": {
          "base_uri": "https://localhost:8080/"
        },
        "id": "TOE3x5JI9312",
        "outputId": "4bf2a8e5-2277-49dd-bd0c-f948ce740533"
      },
      "execution_count": 14,
      "outputs": [
        {
          "output_type": "stream",
          "name": "stdout",
          "text": [
            "Updated IAM policy for project [sb-gcp-project-01].\n",
            "bindings:\n",
            "- members:\n",
            "  - serviceAccount:service-379507182035@gcp-sa-aiplatform-cc.iam.gserviceaccount.com\n",
            "  role: roles/aiplatform.customCodeServiceAgent\n",
            "- members:\n",
            "  - serviceAccount:asr-model-srvc@sb-gcp-project-01.iam.gserviceaccount.com\n",
            "  - serviceAccount:service-379507182035@gcp-sa-aiplatform.iam.gserviceaccount.com\n",
            "  role: roles/aiplatform.serviceAgent\n",
            "- members:\n",
            "  - serviceAccount:service-379507182035@gcp-sa-artifactregistry.iam.gserviceaccount.com\n",
            "  role: roles/artifactregistry.serviceAgent\n",
            "- members:\n",
            "  - serviceAccount:379507182035@cloudbuild.gserviceaccount.com\n",
            "  role: roles/cloudbuild.builds.builder\n",
            "- members:\n",
            "  - serviceAccount:service-379507182035@gcp-sa-cloudbuild.iam.gserviceaccount.com\n",
            "  role: roles/cloudbuild.serviceAgent\n",
            "- members:\n",
            "  - serviceAccount:service-379507182035@compute-system.iam.gserviceaccount.com\n",
            "  role: roles/compute.serviceAgent\n",
            "- members:\n",
            "  - serviceAccount:service-379507182035@containerregistry.iam.gserviceaccount.com\n",
            "  role: roles/containerregistry.ServiceAgent\n",
            "- members:\n",
            "  - serviceAccount:my-docai-sa@sb-gcp-project-01.iam.gserviceaccount.com\n",
            "  role: roles/documentai.admin\n",
            "- members:\n",
            "  - serviceAccount:service-379507182035@gcp-sa-prod-dai-core.iam.gserviceaccount.com\n",
            "  role: roles/documentaicore.serviceAgent\n",
            "- members:\n",
            "  - serviceAccount:379507182035-compute@developer.gserviceaccount.com\n",
            "  - serviceAccount:379507182035@cloudservices.gserviceaccount.com\n",
            "  - serviceAccount:speech-collection@sb-gcp-project-01.iam.gserviceaccount.com\n",
            "  - serviceAccount:sunbird-ai-api-deployer@sb-gcp-project-01.iam.gserviceaccount.com\n",
            "  - serviceAccount:wa-translation@sb-gcp-project-01.iam.gserviceaccount.com\n",
            "  - user:bakera@sunbird.ai\n",
            "  - user:mtaye@sunbird.ai\n",
            "  - user:sbejih@sunbird.ai\n",
            "  - user:snsumba@sunbird.ai\n",
            "  role: roles/editor\n",
            "- members:\n",
            "  - serviceAccount:service-379507182035@firebase-rules.iam.gserviceaccount.com\n",
            "  role: roles/firebaserules.system\n",
            "- members:\n",
            "  - serviceAccount:service-379507182035@gcp-sa-firestore.iam.gserviceaccount.com\n",
            "  role: roles/firestore.serviceAgent\n",
            "- members:\n",
            "  - serviceAccount:service-379507182035@gcp-sa-notebooks.iam.gserviceaccount.com\n",
            "  role: roles/notebooks.serviceAgent\n",
            "- members:\n",
            "  - user:azawahry@sunbird.ai\n",
            "  - user:baino@sunbird.ai\n",
            "  - user:emwebaze@sunbird.ai\n",
            "  - user:iowomugisha@sunbird.ai\n",
            "  - user:jq@sunbird.ai\n",
            "  - user:lsanyu@sunbird.ai\n",
            "  - user:sunbirdaicloud@gmail.com\n",
            "  role: roles/owner\n",
            "- members:\n",
            "  - serviceAccount:service-379507182035@gcp-sa-pubsub.iam.gserviceaccount.com\n",
            "  role: roles/pubsub.serviceAgent\n",
            "- members:\n",
            "  - user:iowomugisha@sunbird.ai\n",
            "  role: roles/recommender.billingAccountCudAdmin\n",
            "- members:\n",
            "  - serviceAccount:service-379507182035@serverless-robot-prod.iam.gserviceaccount.com\n",
            "  role: roles/run.serviceAgent\n",
            "- members:\n",
            "  - serviceAccount:my-docai-sa@sb-gcp-project-01.iam.gserviceaccount.com\n",
            "  - serviceAccount:vertex-custom-training-sunbird@sb-gcp-project-01.iam.gserviceaccount.com\n",
            "  role: roles/storage.admin\n",
            "- members:\n",
            "  - serviceAccount:379507182035@cloudservices.gserviceaccount.com\n",
            "  role: roles/storage.objectAdmin\n",
            "- members:\n",
            "  - serviceAccount:bucket-boy@sb-gcp-project-01.iam.gserviceaccount.com\n",
            "  role: roles/storage.objectViewer\n",
            "- members:\n",
            "  - serviceAccount:service-379507182035@gcp-sa-workstations.iam.gserviceaccount.com\n",
            "  role: roles/workstations.serviceAgent\n",
            "etag: BwX-ObYWOJo=\n",
            "version: 1\n"
          ]
        }
      ]
    },
    {
      "cell_type": "code",
      "source": [
        "!gcloud projects add-iam-policy-binding $PROJECT_ID --member=serviceAccount:$SERVICE_ACCOUNT_ID@$PROJECT_ID.iam.gserviceaccount.com --role=\"roles/aiplatform.user\""
      ],
      "metadata": {
        "colab": {
          "base_uri": "https://localhost:8080/"
        },
        "id": "VlguaMC0__rl",
        "outputId": "69144449-1578-4328-adc1-9271bb1e3f36"
      },
      "execution_count": 15,
      "outputs": [
        {
          "output_type": "stream",
          "name": "stdout",
          "text": [
            "Updated IAM policy for project [sb-gcp-project-01].\n",
            "bindings:\n",
            "- members:\n",
            "  - serviceAccount:service-379507182035@gcp-sa-aiplatform-cc.iam.gserviceaccount.com\n",
            "  role: roles/aiplatform.customCodeServiceAgent\n",
            "- members:\n",
            "  - serviceAccount:asr-model-srvc@sb-gcp-project-01.iam.gserviceaccount.com\n",
            "  - serviceAccount:service-379507182035@gcp-sa-aiplatform.iam.gserviceaccount.com\n",
            "  role: roles/aiplatform.serviceAgent\n",
            "- members:\n",
            "  - serviceAccount:vertex-custom-training-sunbird@sb-gcp-project-01.iam.gserviceaccount.com\n",
            "  role: roles/aiplatform.user\n",
            "- members:\n",
            "  - serviceAccount:service-379507182035@gcp-sa-artifactregistry.iam.gserviceaccount.com\n",
            "  role: roles/artifactregistry.serviceAgent\n",
            "- members:\n",
            "  - serviceAccount:379507182035@cloudbuild.gserviceaccount.com\n",
            "  role: roles/cloudbuild.builds.builder\n",
            "- members:\n",
            "  - serviceAccount:service-379507182035@gcp-sa-cloudbuild.iam.gserviceaccount.com\n",
            "  role: roles/cloudbuild.serviceAgent\n",
            "- members:\n",
            "  - serviceAccount:service-379507182035@compute-system.iam.gserviceaccount.com\n",
            "  role: roles/compute.serviceAgent\n",
            "- members:\n",
            "  - serviceAccount:service-379507182035@containerregistry.iam.gserviceaccount.com\n",
            "  role: roles/containerregistry.ServiceAgent\n",
            "- members:\n",
            "  - serviceAccount:my-docai-sa@sb-gcp-project-01.iam.gserviceaccount.com\n",
            "  role: roles/documentai.admin\n",
            "- members:\n",
            "  - serviceAccount:service-379507182035@gcp-sa-prod-dai-core.iam.gserviceaccount.com\n",
            "  role: roles/documentaicore.serviceAgent\n",
            "- members:\n",
            "  - serviceAccount:379507182035-compute@developer.gserviceaccount.com\n",
            "  - serviceAccount:379507182035@cloudservices.gserviceaccount.com\n",
            "  - serviceAccount:speech-collection@sb-gcp-project-01.iam.gserviceaccount.com\n",
            "  - serviceAccount:sunbird-ai-api-deployer@sb-gcp-project-01.iam.gserviceaccount.com\n",
            "  - serviceAccount:wa-translation@sb-gcp-project-01.iam.gserviceaccount.com\n",
            "  - user:bakera@sunbird.ai\n",
            "  - user:mtaye@sunbird.ai\n",
            "  - user:sbejih@sunbird.ai\n",
            "  - user:snsumba@sunbird.ai\n",
            "  role: roles/editor\n",
            "- members:\n",
            "  - serviceAccount:service-379507182035@firebase-rules.iam.gserviceaccount.com\n",
            "  role: roles/firebaserules.system\n",
            "- members:\n",
            "  - serviceAccount:service-379507182035@gcp-sa-firestore.iam.gserviceaccount.com\n",
            "  role: roles/firestore.serviceAgent\n",
            "- members:\n",
            "  - serviceAccount:service-379507182035@gcp-sa-notebooks.iam.gserviceaccount.com\n",
            "  role: roles/notebooks.serviceAgent\n",
            "- members:\n",
            "  - user:azawahry@sunbird.ai\n",
            "  - user:baino@sunbird.ai\n",
            "  - user:emwebaze@sunbird.ai\n",
            "  - user:iowomugisha@sunbird.ai\n",
            "  - user:jq@sunbird.ai\n",
            "  - user:lsanyu@sunbird.ai\n",
            "  - user:sunbirdaicloud@gmail.com\n",
            "  role: roles/owner\n",
            "- members:\n",
            "  - serviceAccount:service-379507182035@gcp-sa-pubsub.iam.gserviceaccount.com\n",
            "  role: roles/pubsub.serviceAgent\n",
            "- members:\n",
            "  - user:iowomugisha@sunbird.ai\n",
            "  role: roles/recommender.billingAccountCudAdmin\n",
            "- members:\n",
            "  - serviceAccount:service-379507182035@serverless-robot-prod.iam.gserviceaccount.com\n",
            "  role: roles/run.serviceAgent\n",
            "- members:\n",
            "  - serviceAccount:my-docai-sa@sb-gcp-project-01.iam.gserviceaccount.com\n",
            "  - serviceAccount:vertex-custom-training-sunbird@sb-gcp-project-01.iam.gserviceaccount.com\n",
            "  role: roles/storage.admin\n",
            "- members:\n",
            "  - serviceAccount:379507182035@cloudservices.gserviceaccount.com\n",
            "  role: roles/storage.objectAdmin\n",
            "- members:\n",
            "  - serviceAccount:bucket-boy@sb-gcp-project-01.iam.gserviceaccount.com\n",
            "  role: roles/storage.objectViewer\n",
            "- members:\n",
            "  - serviceAccount:service-379507182035@gcp-sa-workstations.iam.gserviceaccount.com\n",
            "  role: roles/workstations.serviceAgent\n",
            "etag: BwX-ObrEBdg=\n",
            "version: 1\n"
          ]
        }
      ]
    },
    {
      "cell_type": "markdown",
      "source": [
        "## Data exploration"
      ],
      "metadata": {
        "id": "7DwVBcDOAgbS"
      }
    },
    {
      "cell_type": "code",
      "source": [],
      "metadata": {
        "id": "1rIz4-soAe2G"
      },
      "execution_count": null,
      "outputs": []
    }
  ]
}