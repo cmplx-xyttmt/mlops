{
  "nbformat": 4,
  "nbformat_minor": 0,
  "metadata": {
    "colab": {
      "provenance": [],
      "authorship_tag": "ABX9TyM2kKcLJhmxx8EerUVilNn9",
      "include_colab_link": true
    },
    "kernelspec": {
      "name": "python3",
      "display_name": "Python 3"
    },
    "language_info": {
      "name": "python"
    }
  },
  "cells": [
    {
      "cell_type": "markdown",
      "metadata": {
        "id": "view-in-github",
        "colab_type": "text"
      },
      "source": [
        "<a href=\"https://colab.research.google.com/github/cmplx-xyttmt/mlops/blob/main/starter_notebook.ipynb\" target=\"_parent\"><img src=\"https://colab.research.google.com/assets/colab-badge.svg\" alt=\"Open In Colab\"/></a>"
      ]
    },
    {
      "cell_type": "markdown",
      "source": [
        "# MLOps workflow\n",
        "\n",
        "We'll be using GCP and Vertex AI."
      ],
      "metadata": {
        "id": "3q0uJoF16mol"
      }
    },
    {
      "cell_type": "markdown",
      "source": [
        "## Setting up GCP"
      ],
      "metadata": {
        "id": "nC8UPiQ59vsM"
      }
    },
    {
      "cell_type": "code",
      "source": [
        "from IPython.display import clear_output\n",
        "\n",
        "\n"
      ],
      "metadata": {
        "id": "BM1QDN7JC3_2"
      },
      "execution_count": 16,
      "outputs": []
    },
    {
      "cell_type": "code",
      "source": [
        "# Login to gcloud\n",
        "!gcloud auth login\n",
        "clear_output()"
      ],
      "metadata": {
        "id": "nSfsow_k6-oX"
      },
      "execution_count": 18,
      "outputs": []
    },
    {
      "cell_type": "code",
      "source": [
        "# Set the working project\n",
        "!gcloud config set project sb-gcp-project-01"
      ],
      "metadata": {
        "colab": {
          "base_uri": "https://localhost:8080/"
        },
        "id": "pm_aQWKW7teT",
        "outputId": "56b9159a-37a6-4647-cef0-4d0994fd9e2d"
      },
      "execution_count": 4,
      "outputs": [
        {
          "output_type": "stream",
          "name": "stdout",
          "text": [
            "Updated property [core/project].\n"
          ]
        }
      ]
    },
    {
      "cell_type": "code",
      "source": [
        "# Confirm that the project is set\n",
        "!gcloud config list project"
      ],
      "metadata": {
        "colab": {
          "base_uri": "https://localhost:8080/"
        },
        "id": "PTKayU627_Vp",
        "outputId": "8a03e0fc-34be-4db4-ae26-3b62f3937e83"
      },
      "execution_count": 5,
      "outputs": [
        {
          "output_type": "stream",
          "name": "stdout",
          "text": [
            "[core]\n",
            "project = sb-gcp-project-01\n",
            "\n",
            "Your active configuration is: [default]\n"
          ]
        }
      ]
    },
    {
      "cell_type": "code",
      "source": [
        "# (Optional) Enable required services.\n",
        "!gcloud services enable \\\n",
        "  compute.googleapis.com \\\n",
        "  iam.googleapis.com \\\n",
        "  iamcredentials.googleapis.com \\\n",
        "  monitoring.googleapis.com \\\n",
        "  logging.googleapis.com \\\n",
        "  notebooks.googleapis.com \\\n",
        "  aiplatform.googleapis.com \\\n",
        "  bigquery.googleapis.com \\\n",
        "  artifactregistry.googleapis.com \\\n",
        "  cloudbuild.googleapis.com \\\n",
        "  container.googleapis.com"
      ],
      "metadata": {
        "id": "jW1EQyxJ-LzF"
      },
      "execution_count": null,
      "outputs": []
    },
    {
      "cell_type": "code",
      "source": [
        "# create a service account for custom training\n",
        "import os\n",
        "os.environ['SERVICE_ACCOUNT_ID'] = 'vertex-custom-training-sunbird'\n",
        "!echo $SERVICE_ACCOUNT_ID\n",
        "!gcloud iam service-accounts create $SERVICE_ACCOUNT_ID --description=\"A custom service account for Vertex custom training.\" --display-name=\"Vertex AI Custom Training\""
      ],
      "metadata": {
        "colab": {
          "base_uri": "https://localhost:8080/"
        },
        "id": "kC7L5ame8Np5",
        "outputId": "8212e524-69cf-471e-e3cd-1506f0728738"
      },
      "execution_count": 9,
      "outputs": [
        {
          "output_type": "stream",
          "name": "stdout",
          "text": [
            "vertex-custom-training-sunbird\n",
            "Created service account [vertex-custom-training-sunbird].\n"
          ]
        }
      ]
    },
    {
      "cell_type": "code",
      "source": [
        "# Grant service account access to Cloud Storage\n",
        "PROJECT_ID=!(gcloud config get-value core/project)\n",
        "PROJECT_ID = PROJECT_ID[0]\n",
        "os.environ['PROJECT_ID'] = PROJECT_ID\n",
        "\n",
        "!gcloud projects add-iam-policy-binding $PROJECT_ID --member=serviceAccount:$SERVICE_ACCOUNT_ID@$PROJECT_ID.iam.gserviceaccount.com --role=\"roles/storage.admin\"\n",
        "clear_output()"
      ],
      "metadata": {
        "id": "TOE3x5JI9312"
      },
      "execution_count": 19,
      "outputs": []
    },
    {
      "cell_type": "code",
      "source": [
        "!gcloud projects add-iam-policy-binding $PROJECT_ID --member=serviceAccount:$SERVICE_ACCOUNT_ID@$PROJECT_ID.iam.gserviceaccount.com --role=\"roles/aiplatform.user\"\n",
        "clear_output()"
      ],
      "metadata": {
        "id": "VlguaMC0__rl"
      },
      "execution_count": 20,
      "outputs": []
    },
    {
      "cell_type": "markdown",
      "source": [
        "## Data processing and exploration"
      ],
      "metadata": {
        "id": "7DwVBcDOAgbS"
      }
    },
    {
      "cell_type": "code",
      "source": [
        "# TODO: Add an example of reading data from a GCS bucket."
      ],
      "metadata": {
        "id": "7C8f_8hTZmRh"
      },
      "execution_count": null,
      "outputs": []
    },
    {
      "cell_type": "code",
      "source": [
        "import torch\n",
        "from torch.utils.data import Dataset\n",
        "from torchvision import datasets\n",
        "from torchvision.transforms import ToTensor\n",
        "import matplotlib.pyplot as plt\n",
        "\n",
        "training_data = datasets.FashionMNIST(\n",
        "    root=\"data\",\n",
        "    train=True,\n",
        "    download=True,\n",
        "    transform=ToTensor()\n",
        ")\n",
        "\n",
        "test_data = datasets.FashionMNIST(\n",
        "    root=\"data\",\n",
        "    train=False,\n",
        "    download=True,\n",
        "    transform=ToTensor()\n",
        ")"
      ],
      "metadata": {
        "colab": {
          "base_uri": "https://localhost:8080/"
        },
        "id": "v0AmP-QiIpBC",
        "outputId": "8a05f334-4b56-4d90-bb4a-7b5092802a87"
      },
      "execution_count": 26,
      "outputs": [
        {
          "output_type": "stream",
          "name": "stdout",
          "text": [
            "Downloading http://fashion-mnist.s3-website.eu-central-1.amazonaws.com/train-images-idx3-ubyte.gz\n",
            "Downloading http://fashion-mnist.s3-website.eu-central-1.amazonaws.com/train-images-idx3-ubyte.gz to data/FashionMNIST/raw/train-images-idx3-ubyte.gz\n"
          ]
        },
        {
          "output_type": "stream",
          "name": "stderr",
          "text": [
            "100%|██████████| 26421880/26421880 [00:20<00:00, 1314526.93it/s]\n"
          ]
        },
        {
          "output_type": "stream",
          "name": "stdout",
          "text": [
            "Extracting data/FashionMNIST/raw/train-images-idx3-ubyte.gz to data/FashionMNIST/raw\n",
            "\n",
            "Downloading http://fashion-mnist.s3-website.eu-central-1.amazonaws.com/train-labels-idx1-ubyte.gz\n",
            "Downloading http://fashion-mnist.s3-website.eu-central-1.amazonaws.com/train-labels-idx1-ubyte.gz to data/FashionMNIST/raw/train-labels-idx1-ubyte.gz\n"
          ]
        },
        {
          "output_type": "stream",
          "name": "stderr",
          "text": [
            "100%|██████████| 29515/29515 [00:00<00:00, 116412.03it/s]\n"
          ]
        },
        {
          "output_type": "stream",
          "name": "stdout",
          "text": [
            "Extracting data/FashionMNIST/raw/train-labels-idx1-ubyte.gz to data/FashionMNIST/raw\n",
            "\n",
            "Downloading http://fashion-mnist.s3-website.eu-central-1.amazonaws.com/t10k-images-idx3-ubyte.gz\n",
            "Downloading http://fashion-mnist.s3-website.eu-central-1.amazonaws.com/t10k-images-idx3-ubyte.gz to data/FashionMNIST/raw/t10k-images-idx3-ubyte.gz\n"
          ]
        },
        {
          "output_type": "stream",
          "name": "stderr",
          "text": [
            "100%|██████████| 4422102/4422102 [00:09<00:00, 472029.02it/s] \n"
          ]
        },
        {
          "output_type": "stream",
          "name": "stdout",
          "text": [
            "Extracting data/FashionMNIST/raw/t10k-images-idx3-ubyte.gz to data/FashionMNIST/raw\n",
            "\n",
            "Downloading http://fashion-mnist.s3-website.eu-central-1.amazonaws.com/t10k-labels-idx1-ubyte.gz\n",
            "Downloading http://fashion-mnist.s3-website.eu-central-1.amazonaws.com/t10k-labels-idx1-ubyte.gz to data/FashionMNIST/raw/t10k-labels-idx1-ubyte.gz\n"
          ]
        },
        {
          "output_type": "stream",
          "name": "stderr",
          "text": [
            "100%|██████████| 5148/5148 [00:00<00:00, 17455357.31it/s]\n"
          ]
        },
        {
          "output_type": "stream",
          "name": "stdout",
          "text": [
            "Extracting data/FashionMNIST/raw/t10k-labels-idx1-ubyte.gz to data/FashionMNIST/raw\n",
            "\n"
          ]
        }
      ]
    },
    {
      "cell_type": "code",
      "source": [
        "labels_map = {\n",
        "    0: \"T-Shirt\",\n",
        "    1: \"Trouser\",\n",
        "    2: \"Pullover\",\n",
        "    3: \"Dress\",\n",
        "    4: \"Coat\",\n",
        "    5: \"Sandal\",\n",
        "    6: \"Shirt\",\n",
        "    7: \"Sneaker\",\n",
        "    8: \"Bag\",\n",
        "    9: \"Ankle Boot\",\n",
        "}\n",
        "figure = plt.figure(figsize=(8, 8))\n",
        "cols, rows = 3, 3\n",
        "for i in range(1, cols * rows + 1):\n",
        "    sample_idx = torch.randint(len(training_data), size=(1,)).item()\n",
        "    img, label = training_data[sample_idx]\n",
        "    figure.add_subplot(rows, cols, i)\n",
        "    plt.title(labels_map[label])\n",
        "    plt.axis(\"off\")\n",
        "    plt.imshow(img.squeeze(), cmap=\"gray\")\n",
        "plt.show()"
      ],
      "metadata": {
        "colab": {
          "base_uri": "https://localhost:8080/",
          "height": 675
        },
        "id": "zxIxZcyAYbiU",
        "outputId": "c5b0f04a-8524-4dba-d813-3add90969186"
      },
      "execution_count": 27,
      "outputs": [
        {
          "output_type": "display_data",
          "data": {
            "text/plain": [
              "<Figure size 800x800 with 9 Axes>"
            ],
            "image/png": "[encoded data removed]"
          },
          "metadata": {}
        }
      ]
    },
    {
      "cell_type": "code",
      "source": [
        "from torch.utils.data import DataLoader\n",
        "\n",
        "train_dataloader = DataLoader(training_data, batch_size=64, shuffle=True)\n",
        "test_dataloader = DataLoader(test_data, batch_size=64, shuffle=True)"
      ],
      "metadata": {
        "id": "0-6U-r9wY4oa"
      },
      "execution_count": 28,
      "outputs": []
    },
    {
      "cell_type": "code",
      "source": [
        "train_features, train_labels = next(iter(train_dataloader))\n",
        "print(f\"Feature batch shape: {train_features.size()}\")\n",
        "print(f\"Labels batch shape: {train_labels.size()}\")\n",
        "img = train_features[0].squeeze()\n",
        "label = train_labels[0]\n",
        "plt.imshow(img, cmap=\"gray\")\n",
        "plt.show()\n",
        "print(f\"Label: {label}\")"
      ],
      "metadata": {
        "colab": {
          "base_uri": "https://localhost:8080/",
          "height": 482
        },
        "id": "_7U-aXQZY75Z",
        "outputId": "481a3da6-d198-488e-d308-c43e117b5307"
      },
      "execution_count": 29,
      "outputs": [
        {
          "output_type": "stream",
          "name": "stdout",
          "text": [
            "Feature batch shape: torch.Size([64, 1, 28, 28])\n",
            "Labels batch shape: torch.Size([64])\n"
          ]
        },
        {
          "output_type": "display_data",
          "data": {
            "text/plain": [
              "<Figure size 640x480 with 1 Axes>"
            ],
            "image/png": "[encoded data removed]"
          },
          "metadata": {}
        },
        {
          "output_type": "stream",
          "name": "stdout",
          "text": [
            "Label: 2\n"
          ]
        }
      ]
    },
    {
      "cell_type": "markdown",
      "source": [
        "## Training a model\n"
      ],
      "metadata": {
        "id": "xQO7qBD9Zth5"
      }
    },
    {
      "cell_type": "code",
      "source": [
        "import os\n",
        "from torch import nn\n",
        "from torchvision import transforms"
      ],
      "metadata": {
        "id": "0U7SHIYKbeF7"
      },
      "execution_count": 33,
      "outputs": []
    },
    {
      "cell_type": "code",
      "source": [
        "device = (\n",
        "    \"cuda\"\n",
        "    if torch.cuda.is_available()\n",
        "    else \"mps\"\n",
        "    if torch.backends.mps.is_available()\n",
        "    else \"cpu\"\n",
        ")\n",
        "\n",
        "print(f\"Using {device} device\")"
      ],
      "metadata": {
        "colab": {
          "base_uri": "https://localhost:8080/"
        },
        "id": "RuaUK_2uZNgh",
        "outputId": "24100751-7a3f-4224-874d-ddd6e72a14c3"
      },
      "execution_count": 31,
      "outputs": [
        {
          "output_type": "stream",
          "name": "stdout",
          "text": [
            "Using cpu device\n"
          ]
        }
      ]
    },
    {
      "cell_type": "code",
      "source": [
        "class NeuralNetwork(nn.Module):\n",
        "    def __init__(self):\n",
        "        super().__init__()\n",
        "        self.flatten = nn.Flatten()\n",
        "        self.linear_relu_stack = nn.Sequential(\n",
        "            nn.Linear(28*28, 512),\n",
        "            nn.ReLU(),\n",
        "            nn.Linear(512, 512),\n",
        "            nn.ReLU(),\n",
        "            nn.Linear(512, 10),\n",
        "        )\n",
        "\n",
        "    def forward(self, x):\n",
        "        x = self.flatten(x)\n",
        "        logits = self.linear_relu_stack(x)\n",
        "        return logits"
      ],
      "metadata": {
        "id": "GZ2ykxCMbX19"
      },
      "execution_count": 34,
      "outputs": []
    },
    {
      "cell_type": "code",
      "source": [
        "model = NeuralNetwork().to(device)\n",
        "print(model)"
      ],
      "metadata": {
        "colab": {
          "base_uri": "https://localhost:8080/"
        },
        "id": "lOeMdux6b1un",
        "outputId": "90a16f41-d6a0-4d19-be6c-95554b3109c6"
      },
      "execution_count": 35,
      "outputs": [
        {
          "output_type": "stream",
          "name": "stdout",
          "text": [
            "NeuralNetwork(\n",
            "  (flatten): Flatten(start_dim=1, end_dim=-1)\n",
            "  (linear_relu_stack): Sequential(\n",
            "    (0): Linear(in_features=784, out_features=512, bias=True)\n",
            "    (1): ReLU()\n",
            "    (2): Linear(in_features=512, out_features=512, bias=True)\n",
            "    (3): ReLU()\n",
            "    (4): Linear(in_features=512, out_features=10, bias=True)\n",
            "  )\n",
            ")\n"
          ]
        }
      ]
    },
    {
      "cell_type": "code",
      "source": [
        "X = torch.rand(1, 28, 28, device=device)\n",
        "logits = model(X)\n",
        "pred_probab = nn.Softmax(dim=1)(logits)\n",
        "y_pred = pred_probab.argmax(1)\n",
        "print(f\"Predicted class: {y_pred}\")"
      ],
      "metadata": {
        "colab": {
          "base_uri": "https://localhost:8080/"
        },
        "id": "iZ7vQsLfb4K8",
        "outputId": "7cf88e6c-704e-447e-9cc4-642e570e222e"
      },
      "execution_count": 36,
      "outputs": [
        {
          "output_type": "stream",
          "name": "stdout",
          "text": [
            "Predicted class: tensor([0])\n"
          ]
        }
      ]
    },
    {
      "cell_type": "code",
      "source": [
        "print(f\"Model structure: {model}\\n\\n\")\n",
        "\n",
        "for name, param in model.named_parameters():\n",
        "    print(f\"Layer: {name} | Size: {param.size()} | Values : {param[:2]} \\n\")"
      ],
      "metadata": {
        "colab": {
          "base_uri": "https://localhost:8080/"
        },
        "id": "AltRGWjtcaaE",
        "outputId": "5d00fb48-dc03-43a2-b8ff-ec7ce24ea7be"
      },
      "execution_count": 37,
      "outputs": [
        {
          "output_type": "stream",
          "name": "stdout",
          "text": [
            "Model structure: NeuralNetwork(\n",
            "  (flatten): Flatten(start_dim=1, end_dim=-1)\n",
            "  (linear_relu_stack): Sequential(\n",
            "    (0): Linear(in_features=784, out_features=512, bias=True)\n",
            "    (1): ReLU()\n",
            "    (2): Linear(in_features=512, out_features=512, bias=True)\n",
            "    (3): ReLU()\n",
            "    (4): Linear(in_features=512, out_features=10, bias=True)\n",
            "  )\n",
            ")\n",
            "\n",
            "\n",
            "Layer: linear_relu_stack.0.weight | Size: torch.Size([512, 784]) | Values : tensor([[-0.0106,  0.0313, -0.0098,  ..., -0.0171,  0.0192,  0.0151],\n",
            "        [ 0.0273, -0.0312, -0.0105,  ...,  0.0170,  0.0037, -0.0237]],\n",
            "       grad_fn=<SliceBackward0>) \n",
            "\n",
            "Layer: linear_relu_stack.0.bias | Size: torch.Size([512]) | Values : tensor([-0.0117,  0.0166], grad_fn=<SliceBackward0>) \n",
            "\n",
            "Layer: linear_relu_stack.2.weight | Size: torch.Size([512, 512]) | Values : tensor([[-0.0148,  0.0311, -0.0129,  ...,  0.0157,  0.0219,  0.0174],\n",
            "        [-0.0398,  0.0211, -0.0178,  ..., -0.0435,  0.0125,  0.0382]],\n",
            "       grad_fn=<SliceBackward0>) \n",
            "\n",
            "Layer: linear_relu_stack.2.bias | Size: torch.Size([512]) | Values : tensor([-0.0191, -0.0263], grad_fn=<SliceBackward0>) \n",
            "\n",
            "Layer: linear_relu_stack.4.weight | Size: torch.Size([10, 512]) | Values : tensor([[-0.0427,  0.0007, -0.0034,  ...,  0.0298,  0.0241,  0.0258],\n",
            "        [-0.0340,  0.0118,  0.0346,  ...,  0.0031, -0.0394,  0.0337]],\n",
            "       grad_fn=<SliceBackward0>) \n",
            "\n",
            "Layer: linear_relu_stack.4.bias | Size: torch.Size([10]) | Values : tensor([0.0209, 0.0352], grad_fn=<SliceBackward0>) \n",
            "\n"
          ]
        }
      ]
    },
    {
      "cell_type": "code",
      "source": [
        "learning_rate = 1e-3\n",
        "batch_size = 64\n",
        "epochs = 5"
      ],
      "metadata": {
        "id": "wAiftRXicotj"
      },
      "execution_count": 38,
      "outputs": []
    },
    {
      "cell_type": "code",
      "source": [
        "# Initialize the loss function\n",
        "loss_fn = nn.CrossEntropyLoss()"
      ],
      "metadata": {
        "id": "bvzeXHhTduBo"
      },
      "execution_count": 39,
      "outputs": []
    },
    {
      "cell_type": "code",
      "source": [
        "optimizer = torch.optim.SGD(model.parameters(), lr=learning_rate)"
      ],
      "metadata": {
        "id": "ippkePKxel2v"
      },
      "execution_count": 40,
      "outputs": []
    },
    {
      "cell_type": "code",
      "source": [
        "def train_loop(dataloader, model, loss_fn, optimizer):\n",
        "    size = len(dataloader.dataset)\n",
        "    # Set the model to training mode - important for batch normalization and dropout layers\n",
        "    # Unnecessary in this situation but added for best practices\n",
        "    model.train()\n",
        "    for batch, (X, y) in enumerate(dataloader):\n",
        "        # Compute prediction and loss\n",
        "        pred = model(X)\n",
        "        loss = loss_fn(pred, y)\n",
        "\n",
        "        # Backpropagation\n",
        "        loss.backward()\n",
        "        optimizer.step()\n",
        "        optimizer.zero_grad()\n",
        "\n",
        "        if batch % 100 == 0:\n",
        "            loss, current = loss.item(), (batch + 1) * len(X)\n",
        "            print(f\"loss: {loss:>7f}  [{current:>5d}/{size:>5d}]\")\n",
        "\n",
        "\n",
        "def test_loop(dataloader, model, loss_fn):\n",
        "    # Set the model to evaluation mode - important for batch normalization and dropout layers\n",
        "    # Unnecessary in this situation but added for best practices\n",
        "    model.eval()\n",
        "    size = len(dataloader.dataset)\n",
        "    num_batches = len(dataloader)\n",
        "    test_loss, correct = 0, 0\n",
        "\n",
        "    # Evaluating the model with torch.no_grad() ensures that no gradients are computed during test mode\n",
        "    # also serves to reduce unnecessary gradient computations and memory usage for tensors with requires_grad=True\n",
        "    with torch.no_grad():\n",
        "        for X, y in dataloader:\n",
        "            pred = model(X)\n",
        "            test_loss += loss_fn(pred, y).item()\n",
        "            correct += (pred.argmax(1) == y).type(torch.float).sum().item()\n",
        "\n",
        "    test_loss /= num_batches\n",
        "    correct /= size\n",
        "    print(f\"Test Error: \\n Accuracy: {(100*correct):>0.1f}%, Avg loss: {test_loss:>8f} \\n\")"
      ],
      "metadata": {
        "id": "iefB22wteo1F"
      },
      "execution_count": 41,
      "outputs": []
    },
    {
      "cell_type": "code",
      "source": [
        "loss_fn = nn.CrossEntropyLoss()\n",
        "optimizer = torch.optim.SGD(model.parameters(), lr=learning_rate)\n",
        "\n",
        "epochs = 10\n",
        "for t in range(epochs):\n",
        "    print(f\"Epoch {t+1}\\n-------------------------------\")\n",
        "    train_loop(train_dataloader, model, loss_fn, optimizer)\n",
        "    test_loop(test_dataloader, model, loss_fn)\n",
        "print(\"Done!\")"
      ],
      "metadata": {
        "colab": {
          "base_uri": "https://localhost:8080/"
        },
        "id": "0AWky8ncetFW",
        "outputId": "64222305-d785-4a5f-fa8c-3975b37e6808"
      },
      "execution_count": 42,
      "outputs": [
        {
          "output_type": "stream",
          "name": "stdout",
          "text": [
            "Epoch 1\n",
            "-------------------------------\n",
            "loss: 2.302540  [   64/60000]\n",
            "loss: 2.283413  [ 6464/60000]\n",
            "loss: 2.269550  [12864/60000]\n",
            "loss: 2.252679  [19264/60000]\n",
            "loss: 2.245815  [25664/60000]\n",
            "loss: 2.222944  [32064/60000]\n",
            "loss: 2.201847  [38464/60000]\n",
            "loss: 2.181737  [44864/60000]\n",
            "loss: 2.172928  [51264/60000]\n",
            "loss: 2.158331  [57664/60000]\n",
            "Test Error: \n",
            " Accuracy: 49.1%, Avg loss: 2.144788 \n",
            "\n",
            "Epoch 2\n",
            "-------------------------------\n",
            "loss: 2.141716  [   64/60000]\n",
            "loss: 2.091076  [ 6464/60000]\n",
            "loss: 2.114393  [12864/60000]\n",
            "loss: 2.079768  [19264/60000]\n",
            "loss: 2.039138  [25664/60000]\n",
            "loss: 1.995826  [32064/60000]\n",
            "loss: 2.009272  [38464/60000]\n",
            "loss: 1.955707  [44864/60000]\n",
            "loss: 1.955427  [51264/60000]\n",
            "loss: 1.906097  [57664/60000]\n",
            "Test Error: \n",
            " Accuracy: 59.9%, Avg loss: 1.863328 \n",
            "\n",
            "Epoch 3\n",
            "-------------------------------\n",
            "loss: 1.839163  [   64/60000]\n",
            "loss: 1.815001  [ 6464/60000]\n",
            "loss: 1.806505  [12864/60000]\n",
            "loss: 1.776136  [19264/60000]\n",
            "loss: 1.620029  [25664/60000]\n",
            "loss: 1.638207  [32064/60000]\n",
            "loss: 1.611066  [38464/60000]\n",
            "loss: 1.632857  [44864/60000]\n",
            "loss: 1.581069  [51264/60000]\n",
            "loss: 1.489159  [57664/60000]\n",
            "Test Error: \n",
            " Accuracy: 60.5%, Avg loss: 1.485953 \n",
            "\n",
            "Epoch 4\n",
            "-------------------------------\n",
            "loss: 1.497041  [   64/60000]\n",
            "loss: 1.415941  [ 6464/60000]\n",
            "loss: 1.350543  [12864/60000]\n",
            "loss: 1.374008  [19264/60000]\n",
            "loss: 1.447431  [25664/60000]\n",
            "loss: 1.281009  [32064/60000]\n",
            "loss: 1.285207  [38464/60000]\n",
            "loss: 1.303648  [44864/60000]\n",
            "loss: 1.198637  [51264/60000]\n",
            "loss: 1.193604  [57664/60000]\n",
            "Test Error: \n",
            " Accuracy: 62.7%, Avg loss: 1.221831 \n",
            "\n",
            "Epoch 5\n",
            "-------------------------------\n",
            "loss: 1.267496  [   64/60000]\n",
            "loss: 1.139211  [ 6464/60000]\n",
            "loss: 1.164735  [12864/60000]\n",
            "loss: 1.274826  [19264/60000]\n",
            "loss: 1.066887  [25664/60000]\n",
            "loss: 1.146768  [32064/60000]\n",
            "loss: 1.070302  [38464/60000]\n",
            "loss: 1.023959  [44864/60000]\n",
            "loss: 1.211934  [51264/60000]\n",
            "loss: 1.192660  [57664/60000]\n",
            "Test Error: \n",
            " Accuracy: 63.6%, Avg loss: 1.066822 \n",
            "\n",
            "Epoch 6\n",
            "-------------------------------\n",
            "loss: 1.114100  [   64/60000]\n",
            "loss: 1.025479  [ 6464/60000]\n",
            "loss: 1.180222  [12864/60000]\n",
            "loss: 1.054936  [19264/60000]\n",
            "loss: 0.956117  [25664/60000]\n",
            "loss: 1.210685  [32064/60000]\n",
            "loss: 1.061966  [38464/60000]\n",
            "loss: 1.027490  [44864/60000]\n",
            "loss: 1.066179  [51264/60000]\n",
            "loss: 0.930532  [57664/60000]\n",
            "Test Error: \n",
            " Accuracy: 65.8%, Avg loss: 0.969207 \n",
            "\n",
            "Epoch 7\n",
            "-------------------------------\n",
            "loss: 1.134598  [   64/60000]\n",
            "loss: 0.945264  [ 6464/60000]\n",
            "loss: 0.869731  [12864/60000]\n",
            "loss: 0.922909  [19264/60000]\n",
            "loss: 0.925844  [25664/60000]\n",
            "loss: 0.851891  [32064/60000]\n",
            "loss: 0.956061  [38464/60000]\n",
            "loss: 0.805347  [44864/60000]\n",
            "loss: 0.827448  [51264/60000]\n",
            "loss: 0.930203  [57664/60000]\n",
            "Test Error: \n",
            " Accuracy: 66.6%, Avg loss: 0.900726 \n",
            "\n",
            "Epoch 8\n",
            "-------------------------------\n",
            "loss: 0.954000  [   64/60000]\n",
            "loss: 0.911404  [ 6464/60000]\n",
            "loss: 0.682878  [12864/60000]\n",
            "loss: 0.790634  [19264/60000]\n",
            "loss: 0.808778  [25664/60000]\n",
            "loss: 0.840473  [32064/60000]\n",
            "loss: 0.909720  [38464/60000]\n",
            "loss: 0.856896  [44864/60000]\n",
            "loss: 0.861107  [51264/60000]\n",
            "loss: 0.811286  [57664/60000]\n",
            "Test Error: \n",
            " Accuracy: 68.4%, Avg loss: 0.853730 \n",
            "\n",
            "Epoch 9\n",
            "-------------------------------\n",
            "loss: 0.910136  [   64/60000]\n",
            "loss: 0.799256  [ 6464/60000]\n",
            "loss: 0.893119  [12864/60000]\n",
            "loss: 0.793751  [19264/60000]\n",
            "loss: 0.781853  [25664/60000]\n",
            "loss: 0.792110  [32064/60000]\n",
            "loss: 0.819484  [38464/60000]\n",
            "loss: 0.983634  [44864/60000]\n",
            "loss: 0.653254  [51264/60000]\n",
            "loss: 0.697606  [57664/60000]\n",
            "Test Error: \n",
            " Accuracy: 69.8%, Avg loss: 0.814633 \n",
            "\n",
            "Epoch 10\n",
            "-------------------------------\n",
            "loss: 0.819763  [   64/60000]\n",
            "loss: 0.721196  [ 6464/60000]\n",
            "loss: 0.666504  [12864/60000]\n",
            "loss: 0.856403  [19264/60000]\n",
            "loss: 0.688865  [25664/60000]\n",
            "loss: 0.682010  [32064/60000]\n",
            "loss: 0.776368  [38464/60000]\n",
            "loss: 0.915148  [44864/60000]\n",
            "loss: 0.672858  [51264/60000]\n",
            "loss: 0.727090  [57664/60000]\n",
            "Test Error: \n",
            " Accuracy: 71.2%, Avg loss: 0.782329 \n",
            "\n",
            "Done!\n"
          ]
        }
      ]
    },
    {
      "cell_type": "code",
      "source": [
        "# To run this code asynchronously, containerize the training code with this format:\n",
        "# |--/model-training\n",
        "#     |--/trainer\n",
        "#         |--__init__.py\n",
        "#         |--model.py\n",
        "#         |--task.py\n",
        "#     |--Dockerfile\n",
        "#     |--cloudbuild.yaml\n",
        "#     |--requirements.txt"
      ],
      "metadata": {
        "id": "GzJ1xm_cklJr"
      },
      "execution_count": null,
      "outputs": []
    },
    {
      "cell_type": "code",
      "source": [
        "torch.save(model.state_dict(), 'model_weights.pth')"
      ],
      "metadata": {
        "id": "vCURv8Clfq7j"
      },
      "execution_count": 43,
      "outputs": []
    },
    {
      "cell_type": "code",
      "source": [
        "GCS_BUCKET = f\"{PROJECT_ID}-mnist-bucket\"\n",
        "REGION = 'europe-west1'"
      ],
      "metadata": {
        "id": "KKoMh4CegZwx"
      },
      "execution_count": 52,
      "outputs": []
    },
    {
      "cell_type": "code",
      "source": [
        "!echo $REGION"
      ],
      "metadata": {
        "colab": {
          "base_uri": "https://localhost:8080/"
        },
        "id": "lFF1gzaXhTMS",
        "outputId": "664e83ef-8296-449d-9961-312d5e7d854b"
      },
      "execution_count": 50,
      "outputs": [
        {
          "output_type": "stream",
          "name": "stdout",
          "text": [
            "europe-west1\n"
          ]
        }
      ]
    },
    {
      "cell_type": "code",
      "source": [
        "# create a bucket to store the model\n",
        "!gsutil mb -l $REGION gs://$GCS_BUCKET"
      ],
      "metadata": {
        "colab": {
          "base_uri": "https://localhost:8080/"
        },
        "id": "E2gPAuYHgn46",
        "outputId": "90b229c8-3d41-4c4e-fc7f-96c7ff78d11f"
      },
      "execution_count": 51,
      "outputs": [
        {
          "output_type": "stream",
          "name": "stdout",
          "text": [
            "Creating gs://sb-gcp-project-01-mnist-bucket/...\n"
          ]
        }
      ]
    },
    {
      "cell_type": "code",
      "source": [
        "# upload model weights to bucket.\n",
        "!gsutil cp model_weights.pth gs://$GCS_BUCKET/model_weights/model_weights.pth"
      ],
      "metadata": {
        "colab": {
          "base_uri": "https://localhost:8080/"
        },
        "id": "Ce0G24kkhwTI",
        "outputId": "51240c1e-0aee-44fe-e439-3c786032af3e"
      },
      "execution_count": 55,
      "outputs": [
        {
          "output_type": "stream",
          "name": "stdout",
          "text": [
            "Copying file://model_weights.pth [Content-Type=application/octet-stream]...\n",
            "|\n",
            "Operation completed over 1 objects/2.6 MiB.                                      \n"
          ]
        }
      ]
    },
    {
      "cell_type": "code",
      "source": [],
      "metadata": {
        "id": "soE6OklYjf_F"
      },
      "execution_count": null,
      "outputs": []
    }
  ]
}