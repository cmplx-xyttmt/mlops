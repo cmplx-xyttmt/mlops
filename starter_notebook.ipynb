{
  "nbformat": 4,
  "nbformat_minor": 0,
  "metadata": {
    "colab": {
      "provenance": [],
      "authorship_tag": "ABX9TyPegwbkofNgc6+dJVbF/TPl",
      "include_colab_link": true
    },
    "kernelspec": {
      "name": "python3",
      "display_name": "Python 3"
    },
    "language_info": {
      "name": "python"
    }
  },
  "cells": [
    {
      "cell_type": "markdown",
      "metadata": {
        "id": "view-in-github",
        "colab_type": "text"
      },
      "source": [
        "<a href=\"https://colab.research.google.com/github/cmplx-xyttmt/mlops/blob/main/starter_notebook.ipynb\" target=\"_parent\"><img src=\"https://colab.research.google.com/assets/colab-badge.svg\" alt=\"Open In Colab\"/></a>"
      ]
    },
    {
      "cell_type": "markdown",
      "source": [
        "# MLOps workflow\n",
        "\n",
        "We'll be using GCP and Vertex AI."
      ],
      "metadata": {
        "id": "3q0uJoF16mol"
      }
    },
    {
      "cell_type": "markdown",
      "source": [
        "## Setting up GCP"
      ],
      "metadata": {
        "id": "nC8UPiQ59vsM"
      }
    },
    {
      "cell_type": "code",
      "source": [
        "from IPython.display import clear_output\n",
        "\n",
        "\n"
      ],
      "metadata": {
        "id": "BM1QDN7JC3_2"
      },
      "execution_count": 16,
      "outputs": []
    },
    {
      "cell_type": "code",
      "source": [
        "# Login to gcloud\n",
        "!gcloud auth login\n",
        "clear_output()"
      ],
      "metadata": {
        "id": "nSfsow_k6-oX"
      },
      "execution_count": 18,
      "outputs": []
    },
    {
      "cell_type": "code",
      "source": [
        "# Set the working project\n",
        "!gcloud config set project sb-gcp-project-01"
      ],
      "metadata": {
        "colab": {
          "base_uri": "https://localhost:8080/"
        },
        "id": "pm_aQWKW7teT",
        "outputId": "56b9159a-37a6-4647-cef0-4d0994fd9e2d"
      },
      "execution_count": 4,
      "outputs": [
        {
          "output_type": "stream",
          "name": "stdout",
          "text": [
            "Updated property [core/project].\n"
          ]
        }
      ]
    },
    {
      "cell_type": "code",
      "source": [
        "# Confirm that the project is set\n",
        "!gcloud config list project"
      ],
      "metadata": {
        "colab": {
          "base_uri": "https://localhost:8080/"
        },
        "id": "PTKayU627_Vp",
        "outputId": "8a03e0fc-34be-4db4-ae26-3b62f3937e83"
      },
      "execution_count": 5,
      "outputs": [
        {
          "output_type": "stream",
          "name": "stdout",
          "text": [
            "[core]\n",
            "project = sb-gcp-project-01\n",
            "\n",
            "Your active configuration is: [default]\n"
          ]
        }
      ]
    },
    {
      "cell_type": "code",
      "source": [
        "# (Optional) Enable required services.\n",
        "!gcloud services enable \\\n",
        "  compute.googleapis.com \\\n",
        "  iam.googleapis.com \\\n",
        "  iamcredentials.googleapis.com \\\n",
        "  monitoring.googleapis.com \\\n",
        "  logging.googleapis.com \\\n",
        "  notebooks.googleapis.com \\\n",
        "  aiplatform.googleapis.com \\\n",
        "  bigquery.googleapis.com \\\n",
        "  artifactregistry.googleapis.com \\\n",
        "  cloudbuild.googleapis.com \\\n",
        "  container.googleapis.com"
      ],
      "metadata": {
        "id": "jW1EQyxJ-LzF"
      },
      "execution_count": null,
      "outputs": []
    },
    {
      "cell_type": "code",
      "source": [
        "# create a service account for custom training\n",
        "import os\n",
        "os.environ['SERVICE_ACCOUNT_ID'] = 'vertex-custom-training-sunbird'\n",
        "!echo $SERVICE_ACCOUNT_ID\n",
        "!gcloud iam service-accounts create $SERVICE_ACCOUNT_ID --description=\"A custom service account for Vertex custom training.\" --display-name=\"Vertex AI Custom Training\""
      ],
      "metadata": {
        "colab": {
          "base_uri": "https://localhost:8080/"
        },
        "id": "kC7L5ame8Np5",
        "outputId": "8212e524-69cf-471e-e3cd-1506f0728738"
      },
      "execution_count": 9,
      "outputs": [
        {
          "output_type": "stream",
          "name": "stdout",
          "text": [
            "vertex-custom-training-sunbird\n",
            "Created service account [vertex-custom-training-sunbird].\n"
          ]
        }
      ]
    },
    {
      "cell_type": "code",
      "source": [
        "# Grant service account access to Cloud Storage\n",
        "PROJECT_ID=!(gcloud config get-value core/project)\n",
        "PROJECT_ID = PROJECT_ID[0]\n",
        "os.environ['PROJECT_ID'] = PROJECT_ID\n",
        "\n",
        "!gcloud projects add-iam-policy-binding $PROJECT_ID --member=serviceAccount:$SERVICE_ACCOUNT_ID@$PROJECT_ID.iam.gserviceaccount.com --role=\"roles/storage.admin\"\n",
        "clear_output()"
      ],
      "metadata": {
        "id": "TOE3x5JI9312"
      },
      "execution_count": 19,
      "outputs": []
    },
    {
      "cell_type": "code",
      "source": [
        "!gcloud projects add-iam-policy-binding $PROJECT_ID --member=serviceAccount:$SERVICE_ACCOUNT_ID@$PROJECT_ID.iam.gserviceaccount.com --role=\"roles/aiplatform.user\"\n",
        "clear_output()"
      ],
      "metadata": {
        "id": "VlguaMC0__rl"
      },
      "execution_count": 20,
      "outputs": []
    },
    {
      "cell_type": "markdown",
      "source": [
        "## Data exploration"
      ],
      "metadata": {
        "id": "7DwVBcDOAgbS"
      }
    },
    {
      "cell_type": "code",
      "source": [],
      "metadata": {
        "colab": {
          "base_uri": "https://localhost:8080/"
        },
        "id": "1rIz4-soAe2G",
        "outputId": "c1e244a4-fda1-4c5d-b617-8250df95f728"
      },
      "execution_count": 21,
      "outputs": [
        {
          "output_type": "execute_result",
          "data": {
            "text/plain": [
              "2"
            ]
          },
          "metadata": {},
          "execution_count": 21
        }
      ]
    }
  ]
}