{
  "cells": [
    {
      "cell_type": "markdown",
      "metadata": {
        "id": "view-in-github",
        "colab_type": "text"
      },
      "source": [
        "<a href=\"https://colab.research.google.com/github/cmplx-xyttmt/mlops/blob/main/starter_notebook.ipynb\" target=\"_parent\"><img src=\"https://colab.research.google.com/assets/colab-badge.svg\" alt=\"Open In Colab\"/></a>"
      ]
    },
    {
      "cell_type": "markdown",
      "metadata": {
        "id": "3q0uJoF16mol"
      },
      "source": [
        "# MLOps workflow\n",
        "\n",
        "We'll be using GCP and Vertex AI."
      ]
    },
    {
      "cell_type": "markdown",
      "metadata": {
        "id": "nC8UPiQ59vsM"
      },
      "source": [
        "## Setting up GCP"
      ]
    },
    {
      "cell_type": "code",
      "execution_count": 4,
      "metadata": {
        "id": "BM1QDN7JC3_2"
      },
      "outputs": [],
      "source": [
        "from IPython.display import clear_output\n",
        "\n",
        "\n"
      ]
    },
    {
      "cell_type": "code",
      "execution_count": 5,
      "metadata": {
        "id": "nSfsow_k6-oX"
      },
      "outputs": [],
      "source": [
        "# Login to gcloud\n",
        "!gcloud auth login\n",
        "clear_output()"
      ]
    },
    {
      "cell_type": "code",
      "execution_count": 6,
      "metadata": {
        "colab": {
          "base_uri": "https://localhost:8080/"
        },
        "id": "pm_aQWKW7teT",
        "outputId": "ffc70420-e772-4630-a0f2-87d6ef16d297"
      },
      "outputs": [
        {
          "output_type": "stream",
          "name": "stdout",
          "text": [
            "Updated property [core/project].\n"
          ]
        }
      ],
      "source": [
        "# Set the working project\n",
        "!gcloud config set project sb-gcp-project-01"
      ]
    },
    {
      "cell_type": "code",
      "execution_count": null,
      "metadata": {
        "colab": {
          "base_uri": "https://localhost:8080/"
        },
        "id": "PTKayU627_Vp",
        "outputId": "d5a884c9-210c-4407-b0ab-44664c64dd2c"
      },
      "outputs": [
        {
          "name": "stdout",
          "output_type": "stream",
          "text": [
            "[core]\n",
            "project = sb-gcp-project-01\n",
            "\n",
            "Your active configuration is: [default]\n"
          ]
        }
      ],
      "source": [
        "# Confirm that the project is set\n",
        "!gcloud config list project"
      ]
    },
    {
      "cell_type": "code",
      "execution_count": null,
      "metadata": {
        "id": "jW1EQyxJ-LzF"
      },
      "outputs": [],
      "source": [
        "# (Optional) Enable required services.\n",
        "!gcloud services enable \\\n",
        "  compute.googleapis.com \\\n",
        "  iam.googleapis.com \\\n",
        "  iamcredentials.googleapis.com \\\n",
        "  monitoring.googleapis.com \\\n",
        "  logging.googleapis.com \\\n",
        "  notebooks.googleapis.com \\\n",
        "  aiplatform.googleapis.com \\\n",
        "  bigquery.googleapis.com \\\n",
        "  artifactregistry.googleapis.com \\\n",
        "  cloudbuild.googleapis.com \\\n",
        "  container.googleapis.com"
      ]
    },
    {
      "cell_type": "code",
      "execution_count": 11,
      "metadata": {
        "id": "nNoTK2d_ZQOw"
      },
      "outputs": [],
      "source": [
        "import os"
      ]
    },
    {
      "cell_type": "code",
      "execution_count": null,
      "metadata": {
        "colab": {
          "base_uri": "https://localhost:8080/"
        },
        "id": "kC7L5ame8Np5",
        "outputId": "8212e524-69cf-471e-e3cd-1506f0728738"
      },
      "outputs": [
        {
          "name": "stdout",
          "output_type": "stream",
          "text": [
            "vertex-custom-training-sunbird\n",
            "Created service account [vertex-custom-training-sunbird].\n"
          ]
        }
      ],
      "source": [
        "# create a service account for custom training\n",
        "os.environ['SERVICE_ACCOUNT_ID'] = 'vertex-custom-training-sunbird'\n",
        "!echo $SERVICE_ACCOUNT_ID\n",
        "!gcloud iam service-accounts create $SERVICE_ACCOUNT_ID --description=\"A custom service account for Vertex custom training.\" --display-name=\"Vertex AI Custom Training\""
      ]
    },
    {
      "cell_type": "code",
      "execution_count": 12,
      "metadata": {
        "id": "TOE3x5JI9312"
      },
      "outputs": [],
      "source": [
        "PROJECT_ID=!(gcloud config get-value core/project)\n",
        "PROJECT_ID = PROJECT_ID[0]\n",
        "os.environ['PROJECT_ID'] = PROJECT_ID"
      ]
    },
    {
      "cell_type": "code",
      "execution_count": null,
      "metadata": {
        "id": "APkc1wGGZGfk"
      },
      "outputs": [],
      "source": [
        "# Grant service account access to Cloud Storage\n",
        "!gcloud projects add-iam-policy-binding $PROJECT_ID --member=serviceAccount:$SERVICE_ACCOUNT_ID@$PROJECT_ID.iam.gserviceaccount.com --role=\"roles/storage.admin\"\n",
        "clear_output()"
      ]
    },
    {
      "cell_type": "code",
      "execution_count": null,
      "metadata": {
        "id": "VlguaMC0__rl"
      },
      "outputs": [],
      "source": [
        "!gcloud projects add-iam-policy-binding $PROJECT_ID --member=serviceAccount:$SERVICE_ACCOUNT_ID@$PROJECT_ID.iam.gserviceaccount.com --role=\"roles/aiplatform.user\"\n",
        "clear_output()"
      ]
    },
    {
      "cell_type": "markdown",
      "metadata": {
        "id": "7DwVBcDOAgbS"
      },
      "source": [
        "## Data processing and exploration"
      ]
    },
    {
      "cell_type": "code",
      "execution_count": null,
      "metadata": {
        "id": "7C8f_8hTZmRh"
      },
      "outputs": [],
      "source": [
        "# TODO: Add an example of reading data from a GCS bucket."
      ]
    },
    {
      "cell_type": "code",
      "execution_count": null,
      "metadata": {
        "colab": {
          "base_uri": "https://localhost:8080/"
        },
        "id": "v0AmP-QiIpBC",
        "outputId": "8a05f334-4b56-4d90-bb4a-7b5092802a87"
      },
      "outputs": [
        {
          "name": "stdout",
          "output_type": "stream",
          "text": [
            "Downloading http://fashion-mnist.s3-website.eu-central-1.amazonaws.com/train-images-idx3-ubyte.gz\n",
            "Downloading http://fashion-mnist.s3-website.eu-central-1.amazonaws.com/train-images-idx3-ubyte.gz to data/FashionMNIST/raw/train-images-idx3-ubyte.gz\n"
          ]
        },
        {
          "name": "stderr",
          "output_type": "stream",
          "text": [
            "100%|██████████| 26421880/26421880 [00:20<00:00, 1314526.93it/s]\n"
          ]
        },
        {
          "name": "stdout",
          "output_type": "stream",
          "text": [
            "Extracting data/FashionMNIST/raw/train-images-idx3-ubyte.gz to data/FashionMNIST/raw\n",
            "\n",
            "Downloading http://fashion-mnist.s3-website.eu-central-1.amazonaws.com/train-labels-idx1-ubyte.gz\n",
            "Downloading http://fashion-mnist.s3-website.eu-central-1.amazonaws.com/train-labels-idx1-ubyte.gz to data/FashionMNIST/raw/train-labels-idx1-ubyte.gz\n"
          ]
        },
        {
          "name": "stderr",
          "output_type": "stream",
          "text": [
            "100%|██████████| 29515/29515 [00:00<00:00, 116412.03it/s]\n"
          ]
        },
        {
          "name": "stdout",
          "output_type": "stream",
          "text": [
            "Extracting data/FashionMNIST/raw/train-labels-idx1-ubyte.gz to data/FashionMNIST/raw\n",
            "\n",
            "Downloading http://fashion-mnist.s3-website.eu-central-1.amazonaws.com/t10k-images-idx3-ubyte.gz\n",
            "Downloading http://fashion-mnist.s3-website.eu-central-1.amazonaws.com/t10k-images-idx3-ubyte.gz to data/FashionMNIST/raw/t10k-images-idx3-ubyte.gz\n"
          ]
        },
        {
          "name": "stderr",
          "output_type": "stream",
          "text": [
            "100%|██████████| 4422102/4422102 [00:09<00:00, 472029.02it/s] \n"
          ]
        },
        {
          "name": "stdout",
          "output_type": "stream",
          "text": [
            "Extracting data/FashionMNIST/raw/t10k-images-idx3-ubyte.gz to data/FashionMNIST/raw\n",
            "\n",
            "Downloading http://fashion-mnist.s3-website.eu-central-1.amazonaws.com/t10k-labels-idx1-ubyte.gz\n",
            "Downloading http://fashion-mnist.s3-website.eu-central-1.amazonaws.com/t10k-labels-idx1-ubyte.gz to data/FashionMNIST/raw/t10k-labels-idx1-ubyte.gz\n"
          ]
        },
        {
          "name": "stderr",
          "output_type": "stream",
          "text": [
            "100%|██████████| 5148/5148 [00:00<00:00, 17455357.31it/s]\n"
          ]
        },
        {
          "name": "stdout",
          "output_type": "stream",
          "text": [
            "Extracting data/FashionMNIST/raw/t10k-labels-idx1-ubyte.gz to data/FashionMNIST/raw\n",
            "\n"
          ]
        }
      ],
      "source": [
        "import torch\n",
        "from torch.utils.data import Dataset\n",
        "from torchvision import datasets\n",
        "from torchvision.transforms import ToTensor\n",
        "import matplotlib.pyplot as plt\n",
        "\n",
        "training_data = datasets.FashionMNIST(\n",
        "    root=\"data\",\n",
        "    train=True,\n",
        "    download=True,\n",
        "    transform=ToTensor()\n",
        ")\n",
        "\n",
        "test_data = datasets.FashionMNIST(\n",
        "    root=\"data\",\n",
        "    train=False,\n",
        "    download=True,\n",
        "    transform=ToTensor()\n",
        ")"
      ]
    },
    {
      "cell_type": "code",
      "execution_count": null,
      "metadata": {
        "colab": {
          "base_uri": "https://localhost:8080/",
          "height": 675
        },
        "id": "zxIxZcyAYbiU",
        "outputId": "c5b0f04a-8524-4dba-d813-3add90969186"
      },
      "outputs": [
        {
          "data": {
            "image/png": "[encoded data removed]",
            "text/plain": [
              "<Figure size 800x800 with 9 Axes>"
            ]
          },
          "metadata": {},
          "output_type": "display_data"
        }
      ],
      "source": [
        "labels_map = {\n",
        "    0: \"T-Shirt\",\n",
        "    1: \"Trouser\",\n",
        "    2: \"Pullover\",\n",
        "    3: \"Dress\",\n",
        "    4: \"Coat\",\n",
        "    5: \"Sandal\",\n",
        "    6: \"Shirt\",\n",
        "    7: \"Sneaker\",\n",
        "    8: \"Bag\",\n",
        "    9: \"Ankle Boot\",\n",
        "}\n",
        "figure = plt.figure(figsize=(8, 8))\n",
        "cols, rows = 3, 3\n",
        "for i in range(1, cols * rows + 1):\n",
        "    sample_idx = torch.randint(len(training_data), size=(1,)).item()\n",
        "    img, label = training_data[sample_idx]\n",
        "    figure.add_subplot(rows, cols, i)\n",
        "    plt.title(labels_map[label])\n",
        "    plt.axis(\"off\")\n",
        "    plt.imshow(img.squeeze(), cmap=\"gray\")\n",
        "plt.show()"
      ]
    },
    {
      "cell_type": "code",
      "execution_count": null,
      "metadata": {
        "id": "0-6U-r9wY4oa"
      },
      "outputs": [],
      "source": [
        "from torch.utils.data import DataLoader\n",
        "\n",
        "train_dataloader = DataLoader(training_data, batch_size=64, shuffle=True)\n",
        "test_dataloader = DataLoader(test_data, batch_size=64, shuffle=True)"
      ]
    },
    {
      "cell_type": "code",
      "execution_count": null,
      "metadata": {
        "colab": {
          "base_uri": "https://localhost:8080/",
          "height": 482
        },
        "id": "_7U-aXQZY75Z",
        "outputId": "481a3da6-d198-488e-d308-c43e117b5307"
      },
      "outputs": [
        {
          "name": "stdout",
          "output_type": "stream",
          "text": [
            "Feature batch shape: torch.Size([64, 1, 28, 28])\n",
            "Labels batch shape: torch.Size([64])\n"
          ]
        },
        {
          "data": {
            "image/png": "[encoded data removed]",
            "text/plain": [
              "<Figure size 640x480 with 1 Axes>"
            ]
          },
          "metadata": {},
          "output_type": "display_data"
        },
        {
          "name": "stdout",
          "output_type": "stream",
          "text": [
            "Label: 2\n"
          ]
        }
      ],
      "source": [
        "train_features, train_labels = next(iter(train_dataloader))\n",
        "print(f\"Feature batch shape: {train_features.size()}\")\n",
        "print(f\"Labels batch shape: {train_labels.size()}\")\n",
        "img = train_features[0].squeeze()\n",
        "label = train_labels[0]\n",
        "plt.imshow(img, cmap=\"gray\")\n",
        "plt.show()\n",
        "print(f\"Label: {label}\")"
      ]
    },
    {
      "cell_type": "markdown",
      "metadata": {
        "id": "xQO7qBD9Zth5"
      },
      "source": [
        "## Training a model\n"
      ]
    },
    {
      "cell_type": "code",
      "execution_count": null,
      "metadata": {
        "id": "0U7SHIYKbeF7"
      },
      "outputs": [],
      "source": [
        "import os\n",
        "from torch import nn\n",
        "from torchvision import transforms"
      ]
    },
    {
      "cell_type": "code",
      "execution_count": null,
      "metadata": {
        "colab": {
          "base_uri": "https://localhost:8080/"
        },
        "id": "RuaUK_2uZNgh",
        "outputId": "24100751-7a3f-4224-874d-ddd6e72a14c3"
      },
      "outputs": [
        {
          "name": "stdout",
          "output_type": "stream",
          "text": [
            "Using cpu device\n"
          ]
        }
      ],
      "source": [
        "device = (\n",
        "    \"cuda\"\n",
        "    if torch.cuda.is_available()\n",
        "    else \"mps\"\n",
        "    if torch.backends.mps.is_available()\n",
        "    else \"cpu\"\n",
        ")\n",
        "\n",
        "print(f\"Using {device} device\")"
      ]
    },
    {
      "cell_type": "code",
      "execution_count": null,
      "metadata": {
        "id": "GZ2ykxCMbX19"
      },
      "outputs": [],
      "source": [
        "class NeuralNetwork(nn.Module):\n",
        "    def __init__(self):\n",
        "        super().__init__()\n",
        "        self.flatten = nn.Flatten()\n",
        "        self.linear_relu_stack = nn.Sequential(\n",
        "            nn.Linear(28*28, 512),\n",
        "            nn.ReLU(),\n",
        "            nn.Linear(512, 512),\n",
        "            nn.ReLU(),\n",
        "            nn.Linear(512, 10),\n",
        "        )\n",
        "\n",
        "    def forward(self, x):\n",
        "        x = self.flatten(x)\n",
        "        logits = self.linear_relu_stack(x)\n",
        "        return logits"
      ]
    },
    {
      "cell_type": "code",
      "execution_count": null,
      "metadata": {
        "colab": {
          "base_uri": "https://localhost:8080/"
        },
        "id": "lOeMdux6b1un",
        "outputId": "90a16f41-d6a0-4d19-be6c-95554b3109c6"
      },
      "outputs": [
        {
          "name": "stdout",
          "output_type": "stream",
          "text": [
            "NeuralNetwork(\n",
            "  (flatten): Flatten(start_dim=1, end_dim=-1)\n",
            "  (linear_relu_stack): Sequential(\n",
            "    (0): Linear(in_features=784, out_features=512, bias=True)\n",
            "    (1): ReLU()\n",
            "    (2): Linear(in_features=512, out_features=512, bias=True)\n",
            "    (3): ReLU()\n",
            "    (4): Linear(in_features=512, out_features=10, bias=True)\n",
            "  )\n",
            ")\n"
          ]
        }
      ],
      "source": [
        "model = NeuralNetwork().to(device)\n",
        "print(model)"
      ]
    },
    {
      "cell_type": "code",
      "execution_count": null,
      "metadata": {
        "colab": {
          "base_uri": "https://localhost:8080/"
        },
        "id": "iZ7vQsLfb4K8",
        "outputId": "7cf88e6c-704e-447e-9cc4-642e570e222e"
      },
      "outputs": [
        {
          "name": "stdout",
          "output_type": "stream",
          "text": [
            "Predicted class: tensor([0])\n"
          ]
        }
      ],
      "source": [
        "X = torch.rand(1, 28, 28, device=device)\n",
        "logits = model(X)\n",
        "pred_probab = nn.Softmax(dim=1)(logits)\n",
        "y_pred = pred_probab.argmax(1)\n",
        "print(f\"Predicted class: {y_pred}\")"
      ]
    },
    {
      "cell_type": "code",
      "execution_count": null,
      "metadata": {
        "colab": {
          "base_uri": "https://localhost:8080/"
        },
        "id": "AltRGWjtcaaE",
        "outputId": "5d00fb48-dc03-43a2-b8ff-ec7ce24ea7be"
      },
      "outputs": [
        {
          "name": "stdout",
          "output_type": "stream",
          "text": [
            "Model structure: NeuralNetwork(\n",
            "  (flatten): Flatten(start_dim=1, end_dim=-1)\n",
            "  (linear_relu_stack): Sequential(\n",
            "    (0): Linear(in_features=784, out_features=512, bias=True)\n",
            "    (1): ReLU()\n",
            "    (2): Linear(in_features=512, out_features=512, bias=True)\n",
            "    (3): ReLU()\n",
            "    (4): Linear(in_features=512, out_features=10, bias=True)\n",
            "  )\n",
            ")\n",
            "\n",
            "\n",
            "Layer: linear_relu_stack.0.weight | Size: torch.Size([512, 784]) | Values : tensor([[-0.0106,  0.0313, -0.0098,  ..., -0.0171,  0.0192,  0.0151],\n",
            "        [ 0.0273, -0.0312, -0.0105,  ...,  0.0170,  0.0037, -0.0237]],\n",
            "       grad_fn=<SliceBackward0>) \n",
            "\n",
            "Layer: linear_relu_stack.0.bias | Size: torch.Size([512]) | Values : tensor([-0.0117,  0.0166], grad_fn=<SliceBackward0>) \n",
            "\n",
            "Layer: linear_relu_stack.2.weight | Size: torch.Size([512, 512]) | Values : tensor([[-0.0148,  0.0311, -0.0129,  ...,  0.0157,  0.0219,  0.0174],\n",
            "        [-0.0398,  0.0211, -0.0178,  ..., -0.0435,  0.0125,  0.0382]],\n",
            "       grad_fn=<SliceBackward0>) \n",
            "\n",
            "Layer: linear_relu_stack.2.bias | Size: torch.Size([512]) | Values : tensor([-0.0191, -0.0263], grad_fn=<SliceBackward0>) \n",
            "\n",
            "Layer: linear_relu_stack.4.weight | Size: torch.Size([10, 512]) | Values : tensor([[-0.0427,  0.0007, -0.0034,  ...,  0.0298,  0.0241,  0.0258],\n",
            "        [-0.0340,  0.0118,  0.0346,  ...,  0.0031, -0.0394,  0.0337]],\n",
            "       grad_fn=<SliceBackward0>) \n",
            "\n",
            "Layer: linear_relu_stack.4.bias | Size: torch.Size([10]) | Values : tensor([0.0209, 0.0352], grad_fn=<SliceBackward0>) \n",
            "\n"
          ]
        }
      ],
      "source": [
        "print(f\"Model structure: {model}\\n\\n\")\n",
        "\n",
        "for name, param in model.named_parameters():\n",
        "    print(f\"Layer: {name} | Size: {param.size()} | Values : {param[:2]} \\n\")"
      ]
    },
    {
      "cell_type": "code",
      "execution_count": null,
      "metadata": {
        "id": "wAiftRXicotj"
      },
      "outputs": [],
      "source": [
        "learning_rate = 1e-3\n",
        "batch_size = 64\n",
        "epochs = 5"
      ]
    },
    {
      "cell_type": "code",
      "execution_count": null,
      "metadata": {
        "id": "bvzeXHhTduBo"
      },
      "outputs": [],
      "source": [
        "# Initialize the loss function\n",
        "loss_fn = nn.CrossEntropyLoss()"
      ]
    },
    {
      "cell_type": "code",
      "execution_count": null,
      "metadata": {
        "id": "ippkePKxel2v"
      },
      "outputs": [],
      "source": [
        "optimizer = torch.optim.SGD(model.parameters(), lr=learning_rate)"
      ]
    },
    {
      "cell_type": "code",
      "execution_count": null,
      "metadata": {
        "id": "iefB22wteo1F"
      },
      "outputs": [],
      "source": [
        "def train_loop(dataloader, model, loss_fn, optimizer):\n",
        "    size = len(dataloader.dataset)\n",
        "    # Set the model to training mode - important for batch normalization and dropout layers\n",
        "    # Unnecessary in this situation but added for best practices\n",
        "    model.train()\n",
        "    for batch, (X, y) in enumerate(dataloader):\n",
        "        # Compute prediction and loss\n",
        "        pred = model(X)\n",
        "        loss = loss_fn(pred, y)\n",
        "\n",
        "        # Backpropagation\n",
        "        loss.backward()\n",
        "        optimizer.step()\n",
        "        optimizer.zero_grad()\n",
        "\n",
        "        if batch % 100 == 0:\n",
        "            loss, current = loss.item(), (batch + 1) * len(X)\n",
        "            print(f\"loss: {loss:>7f}  [{current:>5d}/{size:>5d}]\")\n",
        "\n",
        "\n",
        "def test_loop(dataloader, model, loss_fn):\n",
        "    # Set the model to evaluation mode - important for batch normalization and dropout layers\n",
        "    # Unnecessary in this situation but added for best practices\n",
        "    model.eval()\n",
        "    size = len(dataloader.dataset)\n",
        "    num_batches = len(dataloader)\n",
        "    test_loss, correct = 0, 0\n",
        "\n",
        "    # Evaluating the model with torch.no_grad() ensures that no gradients are computed during test mode\n",
        "    # also serves to reduce unnecessary gradient computations and memory usage for tensors with requires_grad=True\n",
        "    with torch.no_grad():\n",
        "        for X, y in dataloader:\n",
        "            pred = model(X)\n",
        "            test_loss += loss_fn(pred, y).item()\n",
        "            correct += (pred.argmax(1) == y).type(torch.float).sum().item()\n",
        "\n",
        "    test_loss /= num_batches\n",
        "    correct /= size\n",
        "    print(f\"Test Error: \\n Accuracy: {(100*correct):>0.1f}%, Avg loss: {test_loss:>8f} \\n\")"
      ]
    },
    {
      "cell_type": "code",
      "execution_count": null,
      "metadata": {
        "colab": {
          "base_uri": "https://localhost:8080/"
        },
        "id": "0AWky8ncetFW",
        "outputId": "64222305-d785-4a5f-fa8c-3975b37e6808"
      },
      "outputs": [
        {
          "name": "stdout",
          "output_type": "stream",
          "text": [
            "Epoch 1\n",
            "-------------------------------\n",
            "loss: 2.302540  [   64/60000]\n",
            "loss: 2.283413  [ 6464/60000]\n",
            "loss: 2.269550  [12864/60000]\n",
            "loss: 2.252679  [19264/60000]\n",
            "loss: 2.245815  [25664/60000]\n",
            "loss: 2.222944  [32064/60000]\n",
            "loss: 2.201847  [38464/60000]\n",
            "loss: 2.181737  [44864/60000]\n",
            "loss: 2.172928  [51264/60000]\n",
            "loss: 2.158331  [57664/60000]\n",
            "Test Error: \n",
            " Accuracy: 49.1%, Avg loss: 2.144788 \n",
            "\n",
            "Epoch 2\n",
            "-------------------------------\n",
            "loss: 2.141716  [   64/60000]\n",
            "loss: 2.091076  [ 6464/60000]\n",
            "loss: 2.114393  [12864/60000]\n",
            "loss: 2.079768  [19264/60000]\n",
            "loss: 2.039138  [25664/60000]\n",
            "loss: 1.995826  [32064/60000]\n",
            "loss: 2.009272  [38464/60000]\n",
            "loss: 1.955707  [44864/60000]\n",
            "loss: 1.955427  [51264/60000]\n",
            "loss: 1.906097  [57664/60000]\n",
            "Test Error: \n",
            " Accuracy: 59.9%, Avg loss: 1.863328 \n",
            "\n",
            "Epoch 3\n",
            "-------------------------------\n",
            "loss: 1.839163  [   64/60000]\n",
            "loss: 1.815001  [ 6464/60000]\n",
            "loss: 1.806505  [12864/60000]\n",
            "loss: 1.776136  [19264/60000]\n",
            "loss: 1.620029  [25664/60000]\n",
            "loss: 1.638207  [32064/60000]\n",
            "loss: 1.611066  [38464/60000]\n",
            "loss: 1.632857  [44864/60000]\n",
            "loss: 1.581069  [51264/60000]\n",
            "loss: 1.489159  [57664/60000]\n",
            "Test Error: \n",
            " Accuracy: 60.5%, Avg loss: 1.485953 \n",
            "\n",
            "Epoch 4\n",
            "-------------------------------\n",
            "loss: 1.497041  [   64/60000]\n",
            "loss: 1.415941  [ 6464/60000]\n",
            "loss: 1.350543  [12864/60000]\n",
            "loss: 1.374008  [19264/60000]\n",
            "loss: 1.447431  [25664/60000]\n",
            "loss: 1.281009  [32064/60000]\n",
            "loss: 1.285207  [38464/60000]\n",
            "loss: 1.303648  [44864/60000]\n",
            "loss: 1.198637  [51264/60000]\n",
            "loss: 1.193604  [57664/60000]\n",
            "Test Error: \n",
            " Accuracy: 62.7%, Avg loss: 1.221831 \n",
            "\n",
            "Epoch 5\n",
            "-------------------------------\n",
            "loss: 1.267496  [   64/60000]\n",
            "loss: 1.139211  [ 6464/60000]\n",
            "loss: 1.164735  [12864/60000]\n",
            "loss: 1.274826  [19264/60000]\n",
            "loss: 1.066887  [25664/60000]\n",
            "loss: 1.146768  [32064/60000]\n",
            "loss: 1.070302  [38464/60000]\n",
            "loss: 1.023959  [44864/60000]\n",
            "loss: 1.211934  [51264/60000]\n",
            "loss: 1.192660  [57664/60000]\n",
            "Test Error: \n",
            " Accuracy: 63.6%, Avg loss: 1.066822 \n",
            "\n",
            "Epoch 6\n",
            "-------------------------------\n",
            "loss: 1.114100  [   64/60000]\n",
            "loss: 1.025479  [ 6464/60000]\n",
            "loss: 1.180222  [12864/60000]\n",
            "loss: 1.054936  [19264/60000]\n",
            "loss: 0.956117  [25664/60000]\n",
            "loss: 1.210685  [32064/60000]\n",
            "loss: 1.061966  [38464/60000]\n",
            "loss: 1.027490  [44864/60000]\n",
            "loss: 1.066179  [51264/60000]\n",
            "loss: 0.930532  [57664/60000]\n",
            "Test Error: \n",
            " Accuracy: 65.8%, Avg loss: 0.969207 \n",
            "\n",
            "Epoch 7\n",
            "-------------------------------\n",
            "loss: 1.134598  [   64/60000]\n",
            "loss: 0.945264  [ 6464/60000]\n",
            "loss: 0.869731  [12864/60000]\n",
            "loss: 0.922909  [19264/60000]\n",
            "loss: 0.925844  [25664/60000]\n",
            "loss: 0.851891  [32064/60000]\n",
            "loss: 0.956061  [38464/60000]\n",
            "loss: 0.805347  [44864/60000]\n",
            "loss: 0.827448  [51264/60000]\n",
            "loss: 0.930203  [57664/60000]\n",
            "Test Error: \n",
            " Accuracy: 66.6%, Avg loss: 0.900726 \n",
            "\n",
            "Epoch 8\n",
            "-------------------------------\n",
            "loss: 0.954000  [   64/60000]\n",
            "loss: 0.911404  [ 6464/60000]\n",
            "loss: 0.682878  [12864/60000]\n",
            "loss: 0.790634  [19264/60000]\n",
            "loss: 0.808778  [25664/60000]\n",
            "loss: 0.840473  [32064/60000]\n",
            "loss: 0.909720  [38464/60000]\n",
            "loss: 0.856896  [44864/60000]\n",
            "loss: 0.861107  [51264/60000]\n",
            "loss: 0.811286  [57664/60000]\n",
            "Test Error: \n",
            " Accuracy: 68.4%, Avg loss: 0.853730 \n",
            "\n",
            "Epoch 9\n",
            "-------------------------------\n",
            "loss: 0.910136  [   64/60000]\n",
            "loss: 0.799256  [ 6464/60000]\n",
            "loss: 0.893119  [12864/60000]\n",
            "loss: 0.793751  [19264/60000]\n",
            "loss: 0.781853  [25664/60000]\n",
            "loss: 0.792110  [32064/60000]\n",
            "loss: 0.819484  [38464/60000]\n",
            "loss: 0.983634  [44864/60000]\n",
            "loss: 0.653254  [51264/60000]\n",
            "loss: 0.697606  [57664/60000]\n",
            "Test Error: \n",
            " Accuracy: 69.8%, Avg loss: 0.814633 \n",
            "\n",
            "Epoch 10\n",
            "-------------------------------\n",
            "loss: 0.819763  [   64/60000]\n",
            "loss: 0.721196  [ 6464/60000]\n",
            "loss: 0.666504  [12864/60000]\n",
            "loss: 0.856403  [19264/60000]\n",
            "loss: 0.688865  [25664/60000]\n",
            "loss: 0.682010  [32064/60000]\n",
            "loss: 0.776368  [38464/60000]\n",
            "loss: 0.915148  [44864/60000]\n",
            "loss: 0.672858  [51264/60000]\n",
            "loss: 0.727090  [57664/60000]\n",
            "Test Error: \n",
            " Accuracy: 71.2%, Avg loss: 0.782329 \n",
            "\n",
            "Done!\n"
          ]
        }
      ],
      "source": [
        "loss_fn = nn.CrossEntropyLoss()\n",
        "optimizer = torch.optim.SGD(model.parameters(), lr=learning_rate)\n",
        "\n",
        "epochs = 10\n",
        "for t in range(epochs):\n",
        "    print(f\"Epoch {t+1}\\n-------------------------------\")\n",
        "    train_loop(train_dataloader, model, loss_fn, optimizer)\n",
        "    test_loop(test_dataloader, model, loss_fn)\n",
        "print(\"Done!\")"
      ]
    },
    {
      "cell_type": "code",
      "execution_count": null,
      "metadata": {
        "id": "vCURv8Clfq7j"
      },
      "outputs": [],
      "source": [
        "torch.save(model.state_dict(), 'model_weights.pth')"
      ]
    },
    {
      "cell_type": "code",
      "execution_count": 13,
      "metadata": {
        "id": "KKoMh4CegZwx"
      },
      "outputs": [],
      "source": [
        "GCS_BUCKET = f\"{PROJECT_ID}-mnist-bucket\"\n",
        "REGION = 'europe-west1'"
      ]
    },
    {
      "cell_type": "code",
      "execution_count": 1,
      "metadata": {
        "colab": {
          "base_uri": "https://localhost:8080/"
        },
        "id": "lFF1gzaXhTMS",
        "outputId": "7a5b1368-7870-4f8e-ac70-3a4c4d540ad6"
      },
      "outputs": [
        {
          "output_type": "stream",
          "name": "stdout",
          "text": [
            "\n"
          ]
        }
      ],
      "source": [
        "!echo $REGION"
      ]
    },
    {
      "cell_type": "code",
      "execution_count": null,
      "metadata": {
        "colab": {
          "base_uri": "https://localhost:8080/"
        },
        "id": "E2gPAuYHgn46",
        "outputId": "90b229c8-3d41-4c4e-fc7f-96c7ff78d11f"
      },
      "outputs": [
        {
          "name": "stdout",
          "output_type": "stream",
          "text": [
            "Creating gs://sb-gcp-project-01-mnist-bucket/...\n"
          ]
        }
      ],
      "source": [
        "# create a bucket to store the model\n",
        "!gsutil mb -l $REGION gs://$GCS_BUCKET"
      ]
    },
    {
      "cell_type": "code",
      "execution_count": null,
      "metadata": {
        "colab": {
          "base_uri": "https://localhost:8080/"
        },
        "id": "Ce0G24kkhwTI",
        "outputId": "51240c1e-0aee-44fe-e439-3c786032af3e"
      },
      "outputs": [
        {
          "name": "stdout",
          "output_type": "stream",
          "text": [
            "Copying file://model_weights.pth [Content-Type=application/octet-stream]...\n",
            "|\n",
            "Operation completed over 1 objects/2.6 MiB.                                      \n"
          ]
        }
      ],
      "source": [
        "# upload model weights to bucket.\n",
        "!gsutil cp model_weights.pth gs://$GCS_BUCKET/model_weights/model_weights.pth"
      ]
    },
    {
      "cell_type": "markdown",
      "metadata": {
        "id": "YrrspHL-mz_4"
      },
      "source": [
        "## Creating a training job on Vertex AI."
      ]
    },
    {
      "cell_type": "markdown",
      "metadata": {
        "id": "4N9raEkynh0-"
      },
      "source": [
        "To run this code on Vertex AI training instance, put the training code in this format:\n",
        "```\n",
        " |--/mnist-training\n",
        "     |--/trainer\n",
        "         |--__init__.py\n",
        "         |--model.py\n",
        "         |--task.py\n",
        "     |--Dockerfile\n",
        "     |--cloudbuild.yaml\n",
        "     |--requirements.txt\n",
        "```\n",
        "\n",
        "The entry point for the training code is the `trainer.task.py` file.\n",
        "\n",
        "Build the docker container and upload it to gcr (or artifact repository).\n",
        "\n",
        "See [this for more info](https://github.com/GoogleCloudPlatform/training-data-analyst/blob/master/self-paced-labs/vertex-ai/vertex-ai-qwikstart/lab_exercise_long.ipynb)."
      ]
    },
    {
      "cell_type": "code",
      "execution_count": null,
      "metadata": {
        "id": "soE6OklYjf_F"
      },
      "outputs": [],
      "source": [
        "# Create Artifact repository for custom container images\n",
        "ARTIFACT_REPOSITORY = \"mnist-artifact-repo\""
      ]
    },
    {
      "cell_type": "code",
      "execution_count": null,
      "metadata": {
        "colab": {
          "base_uri": "https://localhost:8080/"
        },
        "id": "5qGCHZjd2KMY",
        "outputId": "99335d20-c5af-4d87-80b2-6261702cbb91"
      },
      "outputs": [
        {
          "name": "stdout",
          "output_type": "stream",
          "text": [
            "Create request issued for: [mnist-artifact-repo]\n",
            "Created repository [mnist-artifact-repo].\n"
          ]
        }
      ],
      "source": [
        "!gcloud artifacts repositories create $ARTIFACT_REPOSITORY \\\n",
        "--repository-format=docker \\\n",
        "--location=$REGION \\\n",
        "--description=\"Artifact registry for ML custom training docker images for fashion mnist classification\""
      ]
    },
    {
      "cell_type": "code",
      "execution_count": 18,
      "metadata": {
        "colab": {
          "base_uri": "https://localhost:8080/"
        },
        "id": "0zasS2rd2m-_",
        "outputId": "41f2b8f7-4b85-428a-f93b-0b008e1763ee"
      },
      "outputs": [
        {
          "output_type": "stream",
          "name": "stdout",
          "text": [
            "Cloning into 'mlops'...\n",
            "remote: Enumerating objects: 32, done.\u001b[K\n",
            "remote: Counting objects: 100% (32/32), done.\u001b[K\n",
            "remote: Compressing objects: 100% (25/25), done.\u001b[K\n",
            "remote: Total 32 (delta 6), reused 19 (delta 2), pack-reused 0\u001b[K\n",
            "Unpacking objects: 100% (32/32), 53.00 KiB | 2.30 MiB/s, done.\n"
          ]
        }
      ],
      "source": [
        "# get custom traing code\n",
        "!git clone https://github.com/cmplx-xyttmt/mlops.git"
      ]
    },
    {
      "cell_type": "code",
      "execution_count": 19,
      "metadata": {
        "id": "ofmYw6zr4qf0"
      },
      "outputs": [],
      "source": [
        "IMAGE_NAME=\"mnist-linear-model\"\n",
        "IMAGE_TAG=\"latest\"\n",
        "IMAGE_URI=f\"gcr.io/{PROJECT_ID}/{IMAGE_NAME}:{IMAGE_TAG}\""
      ]
    },
    {
      "cell_type": "code",
      "execution_count": 20,
      "metadata": {
        "colab": {
          "base_uri": "https://localhost:8080/"
        },
        "id": "nN72VaRmAJM2",
        "outputId": "9be756d9-48be-4daf-b07e-5ed83921cd19"
      },
      "outputs": [
        {
          "output_type": "stream",
          "name": "stdout",
          "text": [
            "gcr.io/sb-gcp-project-01/mnist-linear-model:latest\n"
          ]
        }
      ],
      "source": [
        "print(IMAGE_URI)"
      ]
    },
    {
      "cell_type": "code",
      "execution_count": 21,
      "metadata": {
        "id": "KyLPTAhN5EuJ"
      },
      "outputs": [],
      "source": [
        "# Create cloudbuild.yaml instructions\n",
        "\n",
        "cloudbuild_yaml = f\"\"\"steps:\n",
        "- name: 'gcr.io/cloud-builders/docker'\n",
        "  args: ['build', '-t', '{IMAGE_URI}', '.']\n",
        "images:\n",
        "- '{IMAGE_URI}'\"\"\"\n",
        "\n",
        "with open(f\"mnist-training/cloudbuild.yaml\", \"w\") as fp:\n",
        "  fp.write(cloudbuild_yaml)\n"
      ]
    },
    {
      "cell_type": "code",
      "execution_count": 25,
      "metadata": {
        "colab": {
          "base_uri": "https://localhost:8080/"
        },
        "id": "voqSPft36EUg",
        "outputId": "f290ce97-132c-4e4a-9d7d-d7213b382757"
      },
      "outputs": [
        {
          "output_type": "stream",
          "name": "stdout",
          "text": [
            "Creating temporary tarball archive of 6 file(s) totalling 3.1 KiB before compression.\n",
            "Uploading tarball of [mnist-training] to [gs://sb-gcp-project-01_cloudbuild/source/1686948828.96161-9a8c1d755fdc46e9a802a712a2571079.tgz]\n",
            "Created [https://cloudbuild.googleapis.com/v1/projects/sb-gcp-project-01/locations/global/builds/379a2343-7934-4069-86e8-e74a6e9d82c2].\n",
            "Logs are available at [ https://console.cloud.google.com/cloud-build/builds/379a2343-7934-4069-86e8-e74a6e9d82c2?project=379507182035 ].\n",
            " REMOTE BUILD OUTPUT\n",
            "starting build \"379a2343-7934-4069-86e8-e74a6e9d82c2\"\n",
            "\n",
            "FETCHSOURCE\n",
            "Fetching storage object: gs://sb-gcp-project-01_cloudbuild/source/1686948828.96161-9a8c1d755fdc46e9a802a712a2571079.tgz#1686948829251990\n",
            "Copying gs://sb-gcp-project-01_cloudbuild/source/1686948828.96161-9a8c1d755fdc46e9a802a712a2571079.tgz#1686948829251990...\n",
            "/ [1 files][  1.7 KiB/  1.7 KiB]                                                \n",
            "Operation completed over 1 objects/1.7 KiB.\n",
            "BUILD\n",
            "Already have image (with digest): gcr.io/cloud-builders/docker\n",
            "Sending build context to Docker daemon  9.728kB\n",
            "Step 1/7 : FROM gcr.io/deeplearning-platform-release/pytorch-gpu\n",
            "latest: Pulling from deeplearning-platform-release/pytorch-gpu\n",
            "846c0b181fff: Pulling fs layer\n",
            "6fc9dd88827c: Pulling fs layer\n",
            "0b311d7060d0: Pulling fs layer\n",
            "326d76058f67: Pulling fs layer\n",
            "ed7e4c52c661: Pulling fs layer\n",
            "4f05f5570c7a: Pulling fs layer\n",
            "ab264e292103: Pulling fs layer\n",
            "527d1d5ab821: Pulling fs layer\n",
            "fc46d4e99009: Pulling fs layer\n",
            "9ccf692754fa: Pulling fs layer\n",
            "c6611ece70c4: Pulling fs layer\n",
            "fe6ff819b45f: Pulling fs layer\n",
            "1b492c2d74c8: Pulling fs layer\n",
            "821f163f6bbf: Pulling fs layer\n",
            "4f4fb700ef54: Pulling fs layer\n",
            "36dd0a54661c: Pulling fs layer\n",
            "17c622f8ec96: Pulling fs layer\n",
            "78d83c0bc7f0: Pulling fs layer\n",
            "9003edfeafdf: Pulling fs layer\n",
            "e759d17f293e: Pulling fs layer\n",
            "61b61473399f: Pulling fs layer\n",
            "812089392553: Pulling fs layer\n",
            "131ab2239805: Pulling fs layer\n",
            "52af898574c9: Pulling fs layer\n",
            "a64c015fc8f2: Pulling fs layer\n",
            "f029b63dc5a5: Pulling fs layer\n",
            "90e562b6b632: Pulling fs layer\n",
            "de1cae14b2f1: Pulling fs layer\n",
            "b906272ecd14: Pulling fs layer\n",
            "554b16971540: Pulling fs layer\n",
            "38b54b6f438a: Pulling fs layer\n",
            "ab1dd146d8d3: Pulling fs layer\n",
            "e0a89f09a46f: Pulling fs layer\n",
            "f6fdbfeedada: Pulling fs layer\n",
            "a43fae7845b2: Pulling fs layer\n",
            "326d76058f67: Waiting\n",
            "ed7e4c52c661: Waiting\n",
            "4f05f5570c7a: Waiting\n",
            "ab264e292103: Waiting\n",
            "527d1d5ab821: Waiting\n",
            "fc46d4e99009: Waiting\n",
            "9ccf692754fa: Waiting\n",
            "c6611ece70c4: Waiting\n",
            "fe6ff819b45f: Waiting\n",
            "1b492c2d74c8: Waiting\n",
            "821f163f6bbf: Waiting\n",
            "4f4fb700ef54: Waiting\n",
            "36dd0a54661c: Waiting\n",
            "17c622f8ec96: Waiting\n",
            "78d83c0bc7f0: Waiting\n",
            "9003edfeafdf: Waiting\n",
            "e759d17f293e: Waiting\n",
            "61b61473399f: Waiting\n",
            "812089392553: Waiting\n",
            "131ab2239805: Waiting\n",
            "52af898574c9: Waiting\n",
            "a64c015fc8f2: Waiting\n",
            "f029b63dc5a5: Waiting\n",
            "90e562b6b632: Waiting\n",
            "de1cae14b2f1: Waiting\n",
            "b906272ecd14: Waiting\n",
            "554b16971540: Waiting\n",
            "38b54b6f438a: Waiting\n",
            "ab1dd146d8d3: Waiting\n",
            "e0a89f09a46f: Waiting\n",
            "f6fdbfeedada: Waiting\n",
            "a43fae7845b2: Waiting\n",
            "6fc9dd88827c: Verifying Checksum\n",
            "6fc9dd88827c: Download complete\n",
            "0b311d7060d0: Verifying Checksum\n",
            "0b311d7060d0: Download complete\n",
            "326d76058f67: Verifying Checksum\n",
            "326d76058f67: Download complete\n",
            "ed7e4c52c661: Verifying Checksum\n",
            "ed7e4c52c661: Download complete\n",
            "ab264e292103: Verifying Checksum\n",
            "ab264e292103: Download complete\n",
            "846c0b181fff: Verifying Checksum\n",
            "846c0b181fff: Download complete\n",
            "527d1d5ab821: Verifying Checksum\n",
            "527d1d5ab821: Download complete\n",
            "fc46d4e99009: Verifying Checksum\n",
            "fc46d4e99009: Download complete\n",
            "c6611ece70c4: Verifying Checksum\n",
            "c6611ece70c4: Download complete\n",
            "846c0b181fff: Pull complete\n",
            "6fc9dd88827c: Pull complete\n",
            "4f05f5570c7a: Verifying Checksum\n",
            "4f05f5570c7a: Download complete\n",
            "0b311d7060d0: Pull complete\n",
            "326d76058f67: Pull complete\n",
            "ed7e4c52c661: Pull complete\n",
            "1b492c2d74c8: Download complete\n",
            "821f163f6bbf: Verifying Checksum\n",
            "821f163f6bbf: Download complete\n",
            "4f4fb700ef54: Verifying Checksum\n",
            "4f4fb700ef54: Download complete\n",
            "9ccf692754fa: Verifying Checksum\n",
            "9ccf692754fa: Download complete\n",
            "36dd0a54661c: Verifying Checksum\n",
            "36dd0a54661c: Download complete\n",
            "78d83c0bc7f0: Verifying Checksum\n",
            "78d83c0bc7f0: Download complete\n",
            "9003edfeafdf: Verifying Checksum\n",
            "9003edfeafdf: Download complete\n",
            "e759d17f293e: Verifying Checksum\n",
            "e759d17f293e: Download complete\n",
            "61b61473399f: Verifying Checksum\n",
            "61b61473399f: Download complete\n",
            "812089392553: Verifying Checksum\n",
            "812089392553: Download complete\n",
            "17c622f8ec96: Verifying Checksum\n",
            "17c622f8ec96: Download complete\n",
            "52af898574c9: Verifying Checksum\n",
            "52af898574c9: Download complete\n",
            "a64c015fc8f2: Verifying Checksum\n",
            "a64c015fc8f2: Download complete\n",
            "f029b63dc5a5: Verifying Checksum\n",
            "f029b63dc5a5: Download complete\n",
            "90e562b6b632: Verifying Checksum\n",
            "90e562b6b632: Download complete\n",
            "de1cae14b2f1: Verifying Checksum\n",
            "de1cae14b2f1: Download complete\n",
            "b906272ecd14: Verifying Checksum\n",
            "b906272ecd14: Download complete\n",
            "554b16971540: Verifying Checksum\n",
            "554b16971540: Download complete\n",
            "38b54b6f438a: Verifying Checksum\n",
            "38b54b6f438a: Download complete\n",
            "ab1dd146d8d3: Download complete\n",
            "e0a89f09a46f: Verifying Checksum\n",
            "e0a89f09a46f: Download complete\n",
            "131ab2239805: Verifying Checksum\n",
            "131ab2239805: Download complete\n",
            "fe6ff819b45f: Verifying Checksum\n",
            "fe6ff819b45f: Download complete\n",
            "a43fae7845b2: Download complete\n",
            "4f05f5570c7a: Pull complete\n",
            "ab264e292103: Pull complete\n",
            "527d1d5ab821: Pull complete\n",
            "fc46d4e99009: Pull complete\n",
            "f6fdbfeedada: Download complete\n",
            "9ccf692754fa: Pull complete\n",
            "c6611ece70c4: Pull complete\n",
            "fe6ff819b45f: Pull complete\n",
            "1b492c2d74c8: Pull complete\n",
            "821f163f6bbf: Pull complete\n",
            "4f4fb700ef54: Pull complete\n",
            "36dd0a54661c: Pull complete\n",
            "17c622f8ec96: Pull complete\n",
            "78d83c0bc7f0: Pull complete\n",
            "9003edfeafdf: Pull complete\n",
            "e759d17f293e: Pull complete\n",
            "61b61473399f: Pull complete\n",
            "812089392553: Pull complete\n",
            "131ab2239805: Pull complete\n",
            "52af898574c9: Pull complete\n",
            "a64c015fc8f2: Pull complete\n",
            "f029b63dc5a5: Pull complete\n",
            "90e562b6b632: Pull complete\n",
            "de1cae14b2f1: Pull complete\n",
            "b906272ecd14: Pull complete\n",
            "554b16971540: Pull complete\n",
            "38b54b6f438a: Pull complete\n",
            "ab1dd146d8d3: Pull complete\n",
            "e0a89f09a46f: Pull complete\n",
            "f6fdbfeedada: Pull complete\n",
            "a43fae7845b2: Pull complete\n",
            "Digest: sha256:abd2635cebf2927f273768238c688af445715d4fb01cec10ee5098893888bb09\n",
            "Status: Downloaded newer image for gcr.io/deeplearning-platform-release/pytorch-gpu:latest\n",
            " ---> 7029c16e5c36\n",
            "Step 2/7 : WORKDIR /root\n",
            " ---> Running in 2c7bf4f460dc\n",
            "Removing intermediate container 2c7bf4f460dc\n",
            " ---> 4f0f4f882813\n",
            "Step 3/7 : COPY requirements.txt .\n",
            " ---> 026185bf8667\n",
            "Step 4/7 : RUN pip3 install --no-cache-dir -U -r requirements.txt\n",
            " ---> Running in e129157e5dac\n",
            "Requirement already satisfied: torch in /opt/conda/lib/python3.7/site-packages (from -r requirements.txt (line 1)) (1.13.1)\n",
            "Requirement already satisfied: torchvision in /opt/conda/lib/python3.7/site-packages (from -r requirements.txt (line 2)) (0.14.1)\n",
            "Requirement already satisfied: typing-extensions in /opt/conda/lib/python3.7/site-packages (from torch->-r requirements.txt (line 1)) (4.6.3)\n",
            "Requirement already satisfied: nvidia-cuda-runtime-cu11==11.7.99 in /opt/conda/lib/python3.7/site-packages (from torch->-r requirements.txt (line 1)) (11.7.99)\n",
            "Requirement already satisfied: nvidia-cudnn-cu11==8.5.0.96 in /opt/conda/lib/python3.7/site-packages (from torch->-r requirements.txt (line 1)) (8.5.0.96)\n",
            "Requirement already satisfied: nvidia-cublas-cu11==11.10.3.66 in /opt/conda/lib/python3.7/site-packages (from torch->-r requirements.txt (line 1)) (11.10.3.66)\n",
            "Requirement already satisfied: nvidia-cuda-nvrtc-cu11==11.7.99 in /opt/conda/lib/python3.7/site-packages (from torch->-r requirements.txt (line 1)) (11.7.99)\n",
            "Requirement already satisfied: setuptools in /opt/conda/lib/python3.7/site-packages (from nvidia-cublas-cu11==11.10.3.66->torch->-r requirements.txt (line 1)) (67.7.2)\n",
            "Requirement already satisfied: wheel in /opt/conda/lib/python3.7/site-packages (from nvidia-cublas-cu11==11.10.3.66->torch->-r requirements.txt (line 1)) (0.40.0)\n",
            "Requirement already satisfied: numpy in /opt/conda/lib/python3.7/site-packages (from torchvision->-r requirements.txt (line 2)) (1.21.6)\n",
            "Requirement already satisfied: requests in /opt/conda/lib/python3.7/site-packages (from torchvision->-r requirements.txt (line 2)) (2.31.0)\n",
            "Requirement already satisfied: pillow!=8.3.*,>=5.3.0 in /opt/conda/lib/python3.7/site-packages (from torchvision->-r requirements.txt (line 2)) (9.5.0)\n",
            "Requirement already satisfied: charset-normalizer<4,>=2 in /opt/conda/lib/python3.7/site-packages (from requests->torchvision->-r requirements.txt (line 2)) (3.1.0)\n",
            "Requirement already satisfied: idna<4,>=2.5 in /opt/conda/lib/python3.7/site-packages (from requests->torchvision->-r requirements.txt (line 2)) (3.4)\n",
            "Requirement already satisfied: urllib3<3,>=1.21.1 in /opt/conda/lib/python3.7/site-packages (from requests->torchvision->-r requirements.txt (line 2)) (1.26.16)\n",
            "Requirement already satisfied: certifi>=2017.4.17 in /opt/conda/lib/python3.7/site-packages (from requests->torchvision->-r requirements.txt (line 2)) (2023.5.7)\n",
            "\u001b[91mWARNING: Running pip as the 'root' user can result in broken permissions and conflicting behaviour with the system package manager. It is recommended to use a virtual environment instead: https://pip.pypa.io/warnings/venv\n",
            "\u001b[0mRemoving intermediate container e129157e5dac\n",
            " ---> 822c7f8ec3ac\n",
            "Step 5/7 : COPY . /trainer\n",
            " ---> 8fce2406487c\n",
            "Step 6/7 : WORKDIR /trainer\n",
            " ---> Running in d244b55858c6\n",
            "Removing intermediate container d244b55858c6\n",
            " ---> ba5bb90a84d5\n",
            "Step 7/7 : ENTRYPOINT [\"python\", \"-m\", \"trainer.task\"]\n",
            " ---> Running in d15a5b7d0018\n",
            "Removing intermediate container d15a5b7d0018\n",
            " ---> cc9cf012c5b8\n",
            "Successfully built cc9cf012c5b8\n",
            "Successfully tagged gcr.io/sb-gcp-project-01/mnist-linear-model:latest\n",
            "PUSH\n",
            "Pushing gcr.io/sb-gcp-project-01/mnist-linear-model:latest\n",
            "The push refers to repository [gcr.io/sb-gcp-project-01/mnist-linear-model]\n",
            "6b9fb1fca6c4: Preparing\n",
            "ed2e3f8a1b53: Preparing\n",
            "660146c557ee: Preparing\n",
            "afb0cdf5a3cd: Preparing\n",
            "9dde7133df4c: Preparing\n",
            "db5de1786e99: Preparing\n",
            "375e10077256: Preparing\n",
            "c422bacaed9d: Preparing\n",
            "b6b99c0d93e6: Preparing\n",
            "687548e6377b: Preparing\n",
            "42edfe0748b0: Preparing\n",
            "f99df9dc1d82: Preparing\n",
            "4d598f9e30d7: Preparing\n",
            "176360cc07e0: Preparing\n",
            "ded8f7486534: Preparing\n",
            "03cc447adccd: Preparing\n",
            "5df3c6bdcfe8: Preparing\n",
            "1fc4eedb9be6: Preparing\n",
            "212b2abf9267: Preparing\n",
            "0739694b598e: Preparing\n",
            "7893569bc1e0: Preparing\n",
            "7e6443965068: Preparing\n",
            "dcee5f912448: Preparing\n",
            "5f70bf18a086: Preparing\n",
            "1743139ae39b: Preparing\n",
            "f3ffa17f7942: Preparing\n",
            "b3936e4c67d2: Preparing\n",
            "07d37209b7a9: Preparing\n",
            "fed0e8aa65b5: Preparing\n",
            "ad8fec0b36f1: Preparing\n",
            "3a217af3edf9: Preparing\n",
            "3297f5de02be: Preparing\n",
            "f3717d7fdfb7: Preparing\n",
            "e1eace4c0976: Preparing\n",
            "959a7375cb04: Preparing\n",
            "d79c672e1e8b: Preparing\n",
            "7b7c9e761223: Preparing\n",
            "0002c93bdb37: Preparing\n",
            "db5de1786e99: Waiting\n",
            "375e10077256: Waiting\n",
            "c422bacaed9d: Waiting\n",
            "b6b99c0d93e6: Waiting\n",
            "687548e6377b: Waiting\n",
            "42edfe0748b0: Waiting\n",
            "0739694b598e: Waiting\n",
            "4d598f9e30d7: Waiting\n",
            "176360cc07e0: Waiting\n",
            "ded8f7486534: Waiting\n",
            "03cc447adccd: Waiting\n",
            "5df3c6bdcfe8: Waiting\n",
            "1fc4eedb9be6: Waiting\n",
            "212b2abf9267: Waiting\n",
            "f99df9dc1d82: Waiting\n",
            "7893569bc1e0: Waiting\n",
            "7e6443965068: Waiting\n",
            "dcee5f912448: Waiting\n",
            "5f70bf18a086: Waiting\n",
            "1743139ae39b: Waiting\n",
            "f3ffa17f7942: Waiting\n",
            "b3936e4c67d2: Waiting\n",
            "07d37209b7a9: Waiting\n",
            "fed0e8aa65b5: Waiting\n",
            "ad8fec0b36f1: Waiting\n",
            "3a217af3edf9: Waiting\n",
            "3297f5de02be: Waiting\n",
            "f3717d7fdfb7: Waiting\n",
            "e1eace4c0976: Waiting\n",
            "959a7375cb04: Waiting\n",
            "d79c672e1e8b: Waiting\n",
            "7b7c9e761223: Waiting\n",
            "0002c93bdb37: Waiting\n",
            "afb0cdf5a3cd: Layer already exists\n",
            "9dde7133df4c: Layer already exists\n",
            "db5de1786e99: Layer already exists\n",
            "375e10077256: Layer already exists\n",
            "b6b99c0d93e6: Layer already exists\n",
            "c422bacaed9d: Layer already exists\n",
            "687548e6377b: Layer already exists\n",
            "42edfe0748b0: Layer already exists\n",
            "4d598f9e30d7: Layer already exists\n",
            "f99df9dc1d82: Layer already exists\n",
            "176360cc07e0: Layer already exists\n",
            "ded8f7486534: Layer already exists\n",
            "5df3c6bdcfe8: Layer already exists\n",
            "03cc447adccd: Layer already exists\n",
            "1fc4eedb9be6: Layer already exists\n",
            "212b2abf9267: Layer already exists\n",
            "0739694b598e: Layer already exists\n",
            "7893569bc1e0: Layer already exists\n",
            "7e6443965068: Layer already exists\n",
            "dcee5f912448: Layer already exists\n",
            "5f70bf18a086: Layer already exists\n",
            "1743139ae39b: Layer already exists\n",
            "f3ffa17f7942: Layer already exists\n",
            "b3936e4c67d2: Layer already exists\n",
            "07d37209b7a9: Layer already exists\n",
            "fed0e8aa65b5: Layer already exists\n",
            "ad8fec0b36f1: Layer already exists\n",
            "3a217af3edf9: Layer already exists\n",
            "3297f5de02be: Layer already exists\n",
            "f3717d7fdfb7: Layer already exists\n",
            "e1eace4c0976: Layer already exists\n",
            "959a7375cb04: Layer already exists\n",
            "d79c672e1e8b: Layer already exists\n",
            "7b7c9e761223: Layer already exists\n",
            "660146c557ee: Pushed\n",
            "ed2e3f8a1b53: Pushed\n",
            "6b9fb1fca6c4: Pushed\n",
            "0002c93bdb37: Layer already exists\n",
            "latest: digest: sha256:3bb4ad4917c931f4eec2d713eaf0ffa19da09006774ad9d0f683e52a8846c440 size: 8278\n",
            "DONE\n",
            "\n",
            "ID                                    CREATE_TIME                DURATION  SOURCE                                                                                          IMAGES                                                 STATUS\n",
            "379a2343-7934-4069-86e8-e74a6e9d82c2  2023-06-16T20:53:49+00:00  11M11S    gs://sb-gcp-project-01_cloudbuild/source/1686948828.96161-9a8c1d755fdc46e9a802a712a2571079.tgz  gcr.io/sb-gcp-project-01/mnist-linear-model (+1 more)  SUCCESS\n"
          ]
        }
      ],
      "source": [
        "# Build and submit container to artifact repository\n",
        "!gcloud builds submit --config mnist-training/cloudbuild.yaml mnist-training"
      ]
    },
    {
      "cell_type": "code",
      "execution_count": null,
      "metadata": {
        "colab": {
          "base_uri": "https://localhost:8080/",
          "height": 853
        },
        "id": "K0CKpGMoWlEa",
        "outputId": "70f12193-34ae-4051-9928-e6621128660f"
      },
      "outputs": [
        {
          "name": "stdout",
          "output_type": "stream",
          "text": [
            "Looking in indexes: https://pypi.org/simple, https://us-python.pkg.dev/colab-wheels/public/simple/\n",
            "Collecting google-cloud-aiplatform\n",
            "  Downloading google_cloud_aiplatform-1.26.0-py2.py3-none-any.whl (2.6 MB)\n",
            "\u001b[2K     \u001b[90m━━━━━━━━━━━━━━━━━━━━━━━━━━━━━━━━━━━━━━━━\u001b[0m \u001b[32m2.6/2.6 MB\u001b[0m \u001b[31m27.7 MB/s\u001b[0m eta \u001b[36m0:00:00\u001b[0m\n",
            "\u001b[?25hRequirement already satisfied: google-api-core[grpc]!=2.0.*,!=2.1.*,!=2.2.*,!=2.3.*,!=2.4.*,!=2.5.*,!=2.6.*,!=2.7.*,<3.0.0dev,>=1.32.0 in /usr/local/lib/python3.10/dist-packages (from google-cloud-aiplatform) (2.11.0)\n",
            "Requirement already satisfied: proto-plus<2.0.0dev,>=1.22.0 in /usr/local/lib/python3.10/dist-packages (from google-cloud-aiplatform) (1.22.2)\n",
            "Requirement already satisfied: protobuf!=3.20.0,!=3.20.1,!=4.21.0,!=4.21.1,!=4.21.2,!=4.21.3,!=4.21.4,!=4.21.5,<5.0.0dev,>=3.19.5 in /usr/local/lib/python3.10/dist-packages (from google-cloud-aiplatform) (3.20.3)\n",
            "Requirement already satisfied: packaging>=14.3 in /usr/local/lib/python3.10/dist-packages (from google-cloud-aiplatform) (23.1)\n",
            "Requirement already satisfied: google-cloud-storage<3.0.0dev,>=1.32.0 in /usr/local/lib/python3.10/dist-packages (from google-cloud-aiplatform) (2.8.0)\n",
            "Requirement already satisfied: google-cloud-bigquery<4.0.0dev,>=1.15.0 in /usr/local/lib/python3.10/dist-packages (from google-cloud-aiplatform) (3.9.0)\n",
            "Collecting google-cloud-resource-manager<3.0.0dev,>=1.3.3 (from google-cloud-aiplatform)\n",
            "  Downloading google_cloud_resource_manager-1.10.1-py2.py3-none-any.whl (321 kB)\n",
            "\u001b[2K     \u001b[90m━━━━━━━━━━━━━━━━━━━━━━━━━━━━━━━━━━━━━━\u001b[0m \u001b[32m321.3/321.3 kB\u001b[0m \u001b[31m29.4 MB/s\u001b[0m eta \u001b[36m0:00:00\u001b[0m\n",
            "\u001b[?25hCollecting shapely<2.0.0 (from google-cloud-aiplatform)\n",
            "  Downloading Shapely-1.8.5.post1-cp310-cp310-manylinux_2_12_x86_64.manylinux2010_x86_64.whl (2.0 MB)\n",
            "\u001b[2K     \u001b[90m━━━━━━━━━━━━━━━━━━━━━━━━━━━━━━━━━━━━━━━━\u001b[0m \u001b[32m2.0/2.0 MB\u001b[0m \u001b[31m73.3 MB/s\u001b[0m eta \u001b[36m0:00:00\u001b[0m\n",
            "\u001b[?25hRequirement already satisfied: googleapis-common-protos<2.0dev,>=1.56.2 in /usr/local/lib/python3.10/dist-packages (from google-api-core[grpc]!=2.0.*,!=2.1.*,!=2.2.*,!=2.3.*,!=2.4.*,!=2.5.*,!=2.6.*,!=2.7.*,<3.0.0dev,>=1.32.0->google-cloud-aiplatform) (1.59.0)\n",
            "Requirement already satisfied: google-auth<3.0dev,>=2.14.1 in /usr/local/lib/python3.10/dist-packages (from google-api-core[grpc]!=2.0.*,!=2.1.*,!=2.2.*,!=2.3.*,!=2.4.*,!=2.5.*,!=2.6.*,!=2.7.*,<3.0.0dev,>=1.32.0->google-cloud-aiplatform) (2.17.3)\n",
            "Requirement already satisfied: requests<3.0.0dev,>=2.18.0 in /usr/local/lib/python3.10/dist-packages (from google-api-core[grpc]!=2.0.*,!=2.1.*,!=2.2.*,!=2.3.*,!=2.4.*,!=2.5.*,!=2.6.*,!=2.7.*,<3.0.0dev,>=1.32.0->google-cloud-aiplatform) (2.27.1)\n",
            "Requirement already satisfied: grpcio<2.0dev,>=1.33.2 in /usr/local/lib/python3.10/dist-packages (from google-api-core[grpc]!=2.0.*,!=2.1.*,!=2.2.*,!=2.3.*,!=2.4.*,!=2.5.*,!=2.6.*,!=2.7.*,<3.0.0dev,>=1.32.0->google-cloud-aiplatform) (1.54.0)\n",
            "Requirement already satisfied: grpcio-status<2.0dev,>=1.33.2 in /usr/local/lib/python3.10/dist-packages (from google-api-core[grpc]!=2.0.*,!=2.1.*,!=2.2.*,!=2.3.*,!=2.4.*,!=2.5.*,!=2.6.*,!=2.7.*,<3.0.0dev,>=1.32.0->google-cloud-aiplatform) (1.48.2)\n",
            "Requirement already satisfied: google-cloud-core<3.0.0dev,>=1.6.0 in /usr/local/lib/python3.10/dist-packages (from google-cloud-bigquery<4.0.0dev,>=1.15.0->google-cloud-aiplatform) (2.3.2)\n",
            "Requirement already satisfied: google-resumable-media<3.0dev,>=0.6.0 in /usr/local/lib/python3.10/dist-packages (from google-cloud-bigquery<4.0.0dev,>=1.15.0->google-cloud-aiplatform) (2.5.0)\n",
            "Requirement already satisfied: python-dateutil<3.0dev,>=2.7.2 in /usr/local/lib/python3.10/dist-packages (from google-cloud-bigquery<4.0.0dev,>=1.15.0->google-cloud-aiplatform) (2.8.2)\n",
            "Collecting grpc-google-iam-v1<1.0.0dev,>=0.12.4 (from google-cloud-resource-manager<3.0.0dev,>=1.3.3->google-cloud-aiplatform)\n",
            "  Downloading grpc_google_iam_v1-0.12.6-py2.py3-none-any.whl (26 kB)\n",
            "Requirement already satisfied: cachetools<6.0,>=2.0.0 in /usr/local/lib/python3.10/dist-packages (from google-auth<3.0dev,>=2.14.1->google-api-core[grpc]!=2.0.*,!=2.1.*,!=2.2.*,!=2.3.*,!=2.4.*,!=2.5.*,!=2.6.*,!=2.7.*,<3.0.0dev,>=1.32.0->google-cloud-aiplatform) (5.3.0)\n",
            "Requirement already satisfied: pyasn1-modules>=0.2.1 in /usr/local/lib/python3.10/dist-packages (from google-auth<3.0dev,>=2.14.1->google-api-core[grpc]!=2.0.*,!=2.1.*,!=2.2.*,!=2.3.*,!=2.4.*,!=2.5.*,!=2.6.*,!=2.7.*,<3.0.0dev,>=1.32.0->google-cloud-aiplatform) (0.3.0)\n",
            "Requirement already satisfied: six>=1.9.0 in /usr/local/lib/python3.10/dist-packages (from google-auth<3.0dev,>=2.14.1->google-api-core[grpc]!=2.0.*,!=2.1.*,!=2.2.*,!=2.3.*,!=2.4.*,!=2.5.*,!=2.6.*,!=2.7.*,<3.0.0dev,>=1.32.0->google-cloud-aiplatform) (1.16.0)\n",
            "Requirement already satisfied: rsa<5,>=3.1.4 in /usr/local/lib/python3.10/dist-packages (from google-auth<3.0dev,>=2.14.1->google-api-core[grpc]!=2.0.*,!=2.1.*,!=2.2.*,!=2.3.*,!=2.4.*,!=2.5.*,!=2.6.*,!=2.7.*,<3.0.0dev,>=1.32.0->google-cloud-aiplatform) (4.9)\n",
            "Requirement already satisfied: google-crc32c<2.0dev,>=1.0 in /usr/local/lib/python3.10/dist-packages (from google-resumable-media<3.0dev,>=0.6.0->google-cloud-bigquery<4.0.0dev,>=1.15.0->google-cloud-aiplatform) (1.5.0)\n",
            "Requirement already satisfied: urllib3<1.27,>=1.21.1 in /usr/local/lib/python3.10/dist-packages (from requests<3.0.0dev,>=2.18.0->google-api-core[grpc]!=2.0.*,!=2.1.*,!=2.2.*,!=2.3.*,!=2.4.*,!=2.5.*,!=2.6.*,!=2.7.*,<3.0.0dev,>=1.32.0->google-cloud-aiplatform) (1.26.15)\n",
            "Requirement already satisfied: certifi>=2017.4.17 in /usr/local/lib/python3.10/dist-packages (from requests<3.0.0dev,>=2.18.0->google-api-core[grpc]!=2.0.*,!=2.1.*,!=2.2.*,!=2.3.*,!=2.4.*,!=2.5.*,!=2.6.*,!=2.7.*,<3.0.0dev,>=1.32.0->google-cloud-aiplatform) (2022.12.7)\n",
            "Requirement already satisfied: charset-normalizer~=2.0.0 in /usr/local/lib/python3.10/dist-packages (from requests<3.0.0dev,>=2.18.0->google-api-core[grpc]!=2.0.*,!=2.1.*,!=2.2.*,!=2.3.*,!=2.4.*,!=2.5.*,!=2.6.*,!=2.7.*,<3.0.0dev,>=1.32.0->google-cloud-aiplatform) (2.0.12)\n",
            "Requirement already satisfied: idna<4,>=2.5 in /usr/local/lib/python3.10/dist-packages (from requests<3.0.0dev,>=2.18.0->google-api-core[grpc]!=2.0.*,!=2.1.*,!=2.2.*,!=2.3.*,!=2.4.*,!=2.5.*,!=2.6.*,!=2.7.*,<3.0.0dev,>=1.32.0->google-cloud-aiplatform) (3.4)\n",
            "Requirement already satisfied: pyasn1<0.6.0,>=0.4.6 in /usr/local/lib/python3.10/dist-packages (from pyasn1-modules>=0.2.1->google-auth<3.0dev,>=2.14.1->google-api-core[grpc]!=2.0.*,!=2.1.*,!=2.2.*,!=2.3.*,!=2.4.*,!=2.5.*,!=2.6.*,!=2.7.*,<3.0.0dev,>=1.32.0->google-cloud-aiplatform) (0.5.0)\n",
            "Installing collected packages: shapely, grpc-google-iam-v1, google-cloud-resource-manager, google-cloud-aiplatform\n",
            "  Attempting uninstall: shapely\n",
            "    Found existing installation: shapely 2.0.1\n",
            "    Uninstalling shapely-2.0.1:\n",
            "      Successfully uninstalled shapely-2.0.1\n",
            "Successfully installed google-cloud-aiplatform-1.26.0 google-cloud-resource-manager-1.10.1 grpc-google-iam-v1-0.12.6 shapely-1.8.5.post1\n"
          ]
        },
        {
          "data": {
            "application/vnd.colab-display-data+json": {
              "pip_warning": {
                "packages": [
                  "google"
                ]
              }
            }
          },
          "metadata": {},
          "output_type": "display_data"
        }
      ],
      "source": [
        "!pip install google-cloud-aiplatform"
      ]
    },
    {
      "cell_type": "code",
      "execution_count": null,
      "metadata": {
        "id": "sY-fEoNwWEjy"
      },
      "outputs": [],
      "source": [
        "from google.cloud import aiplatform\n",
        "\n",
        "aiplatform.init(project=PROJECT_ID, location=REGION, staging_bucket=f\"gs://{GCS_BUCKET}\")"
      ]
    },
    {
      "cell_type": "code",
      "execution_count": null,
      "metadata": {
        "id": "6wLXqv5qeKxR"
      },
      "outputs": [],
      "source": [
        "os.environ[\"GOOGLE_APPLICATION_CREDENTIALS\"] = 'sb-gcp-project-01-2543dac3538c.json'"
      ]
    },
    {
      "cell_type": "code",
      "execution_count": null,
      "metadata": {
        "id": "eYo8JHf8hALD"
      },
      "outputs": [],
      "source": [
        "MODEL_DIR='mnist-model'"
      ]
    },
    {
      "cell_type": "code",
      "execution_count": null,
      "metadata": {
        "colab": {
          "base_uri": "https://localhost:8080/"
        },
        "id": "BVl4CDtPqjOm",
        "outputId": "391efde6-f91b-4394-ee7d-42782f352e20"
      },
      "outputs": [
        {
          "name": "stdout",
          "output_type": "stream",
          "text": [
            ".io/sb-gcp-project-01/mnist-linear-model:latest\n"
          ]
        }
      ],
      "source": [
        "!echo ${IMAGE_URI}"
      ]
    },
    {
      "cell_type": "code",
      "source": [
        "!echo ${REGION}"
      ],
      "metadata": {
        "colab": {
          "base_uri": "https://localhost:8080/"
        },
        "id": "X2Lgh_fzsC86",
        "outputId": "8f4498af-9ded-4b47-dfc0-a80270a35a7e"
      },
      "execution_count": 23,
      "outputs": [
        {
          "output_type": "stream",
          "name": "stdout",
          "text": [
            "-west1\n"
          ]
        }
      ]
    },
    {
      "cell_type": "code",
      "execution_count": 26,
      "metadata": {
        "colab": {
          "base_uri": "https://localhost:8080/"
        },
        "id": "odkVIIPHgpCJ",
        "outputId": "d70380ce-8a15-4b25-f8fe-ff0b37c8d3e8"
      },
      "outputs": [
        {
          "output_type": "stream",
          "name": "stdout",
          "text": [
            "Using endpoint [https://europe-west1-aiplatform.googleapis.com/]\n",
            "CustomJob [projects/379507182035/locations/europe-west1/customJobs/6031542832857088000] is submitted successfully.\n",
            "\n",
            "Your job is still active. You may view the status of your job with the command\n",
            "\n",
            "  $ gcloud ai custom-jobs describe projects/379507182035/locations/europe-west1/customJobs/6031542832857088000\n",
            "\n",
            "or continue streaming the logs with the command\n",
            "\n",
            "  $ gcloud ai custom-jobs stream-logs projects/379507182035/locations/europe-west1/customJobs/6031542832857088000\n"
          ]
        }
      ],
      "source": [
        "!gcloud ai custom-jobs create \\\n",
        "  --region=$REGION \\\n",
        "  --display-name=mnist-training \\\n",
        "  --worker-pool-spec=machine-type=c2-standard-4,replica-count=1,container-image-uri=gcr.io/sb-gcp-project-01/mnist-linear-model:latest"
      ]
    },
    {
      "cell_type": "code",
      "execution_count": null,
      "metadata": {
        "colab": {
          "base_uri": "https://localhost:8080/",
          "height": 1000
        },
        "id": "TrF6NypA6uzw",
        "outputId": "6ef27b81-4578-4bc1-e8ac-5dfcc0fcaf12"
      },
      "outputs": [
        {
          "name": "stdout",
          "output_type": "stream",
          "text": [
            "Training Output directory:\n",
            "gs://sb-gcp-project-01-mnist-bucket/aiplatform-custom-training-2023-06-16-14:45:55.807 \n"
          ]
        },
        {
          "name": "stderr",
          "output_type": "stream",
          "text": [
            "INFO:google.cloud.aiplatform.training_jobs:Training Output directory:\n",
            "gs://sb-gcp-project-01-mnist-bucket/aiplatform-custom-training-2023-06-16-14:45:55.807 \n",
            "ERROR:grpc._plugin_wrapping:AuthMetadataPluginCallback \"<google.auth.transport.grpc.AuthMetadataPlugin object at 0x7f7775c8c220>\" raised exception!\n",
            "Traceback (most recent call last):\n",
            "  File \"/usr/local/lib/python3.10/dist-packages/google/auth/compute_engine/credentials.py\", line 111, in refresh\n",
            "    self._retrieve_info(request)\n",
            "  File \"/usr/local/lib/python3.10/dist-packages/google/auth/compute_engine/credentials.py\", line 87, in _retrieve_info\n",
            "    info = _metadata.get_service_account_info(\n",
            "  File \"/usr/local/lib/python3.10/dist-packages/google/auth/compute_engine/_metadata.py\", line 234, in get_service_account_info\n",
            "    return get(request, path, params={\"recursive\": \"true\"})\n",
            "  File \"/usr/local/lib/python3.10/dist-packages/google/auth/compute_engine/_metadata.py\", line 182, in get\n",
            "    raise exceptions.TransportError(\n",
            "google.auth.exceptions.TransportError: (\"Failed to retrieve http://metadata.google.internal/computeMetadata/v1/instance/service-accounts/default/?recursive=true from the Google Compute Engine metadata service. Status: 404 Response:\\nb''\", <google.auth.transport.requests._Response object at 0x7f7775c8d270>)\n",
            "\n",
            "The above exception was the direct cause of the following exception:\n",
            "\n",
            "Traceback (most recent call last):\n",
            "  File \"/usr/local/lib/python3.10/dist-packages/grpc/_plugin_wrapping.py\", line 95, in __call__\n",
            "    self._metadata_plugin(\n",
            "  File \"/usr/local/lib/python3.10/dist-packages/google/auth/transport/grpc.py\", line 101, in __call__\n",
            "    callback(self._get_authorization_headers(context), None)\n",
            "  File \"/usr/local/lib/python3.10/dist-packages/google/auth/transport/grpc.py\", line 87, in _get_authorization_headers\n",
            "    self._credentials.before_request(\n",
            "  File \"/usr/local/lib/python3.10/dist-packages/google/auth/credentials.py\", line 135, in before_request\n",
            "    self.refresh(request)\n",
            "  File \"/usr/local/lib/python3.10/dist-packages/google/auth/compute_engine/credentials.py\", line 117, in refresh\n",
            "    six.raise_from(new_exc, caught_exc)\n",
            "  File \"<string>\", line 3, in raise_from\n",
            "google.auth.exceptions.RefreshError: (\"Failed to retrieve http://metadata.google.internal/computeMetadata/v1/instance/service-accounts/default/?recursive=true from the Google Compute Engine metadata service. Status: 404 Response:\\nb''\", <google.auth.transport.requests._Response object at 0x7f7775c8d270>)\n"
          ]
        },
        {
          "ename": "ServiceUnavailable",
          "evalue": "ignored",
          "output_type": "error",
          "traceback": [
            "\u001b[0;31m---------------------------------------------------------------------------\u001b[0m",
            "\u001b[0;31m_InactiveRpcError\u001b[0m                         Traceback (most recent call last)",
            "\u001b[0;32m/usr/local/lib/python3.10/dist-packages/google/api_core/grpc_helpers.py\u001b[0m in \u001b[0;36merror_remapped_callable\u001b[0;34m(*args, **kwargs)\u001b[0m\n\u001b[1;32m     71\u001b[0m         \u001b[0;32mtry\u001b[0m\u001b[0;34m:\u001b[0m\u001b[0;34m\u001b[0m\u001b[0;34m\u001b[0m\u001b[0m\n\u001b[0;32m---> 72\u001b[0;31m             \u001b[0;32mreturn\u001b[0m \u001b[0mcallable_\u001b[0m\u001b[0;34m(\u001b[0m\u001b[0;34m*\u001b[0m\u001b[0margs\u001b[0m\u001b[0;34m,\u001b[0m \u001b[0;34m**\u001b[0m\u001b[0mkwargs\u001b[0m\u001b[0;34m)\u001b[0m\u001b[0;34m\u001b[0m\u001b[0;34m\u001b[0m\u001b[0m\n\u001b[0m\u001b[1;32m     73\u001b[0m         \u001b[0;32mexcept\u001b[0m \u001b[0mgrpc\u001b[0m\u001b[0;34m.\u001b[0m\u001b[0mRpcError\u001b[0m \u001b[0;32mas\u001b[0m \u001b[0mexc\u001b[0m\u001b[0;34m:\u001b[0m\u001b[0;34m\u001b[0m\u001b[0;34m\u001b[0m\u001b[0m\n",
            "\u001b[0;32m/usr/local/lib/python3.10/dist-packages/grpc/_channel.py\u001b[0m in \u001b[0;36m__call__\u001b[0;34m(self, request, timeout, metadata, credentials, wait_for_ready, compression)\u001b[0m\n\u001b[1;32m   1029\u001b[0m                                       wait_for_ready, compression)\n\u001b[0;32m-> 1030\u001b[0;31m         \u001b[0;32mreturn\u001b[0m \u001b[0m_end_unary_response_blocking\u001b[0m\u001b[0;34m(\u001b[0m\u001b[0mstate\u001b[0m\u001b[0;34m,\u001b[0m \u001b[0mcall\u001b[0m\u001b[0;34m,\u001b[0m \u001b[0;32mFalse\u001b[0m\u001b[0;34m,\u001b[0m \u001b[0;32mNone\u001b[0m\u001b[0;34m)\u001b[0m\u001b[0;34m\u001b[0m\u001b[0;34m\u001b[0m\u001b[0m\n\u001b[0m\u001b[1;32m   1031\u001b[0m \u001b[0;34m\u001b[0m\u001b[0m\n",
            "\u001b[0;32m/usr/local/lib/python3.10/dist-packages/grpc/_channel.py\u001b[0m in \u001b[0;36m_end_unary_response_blocking\u001b[0;34m(state, call, with_call, deadline)\u001b[0m\n\u001b[1;32m    909\u001b[0m     \u001b[0;32melse\u001b[0m\u001b[0;34m:\u001b[0m\u001b[0;34m\u001b[0m\u001b[0;34m\u001b[0m\u001b[0m\n\u001b[0;32m--> 910\u001b[0;31m         \u001b[0;32mraise\u001b[0m \u001b[0m_InactiveRpcError\u001b[0m\u001b[0;34m(\u001b[0m\u001b[0mstate\u001b[0m\u001b[0;34m)\u001b[0m  \u001b[0;31m# pytype: disable=not-instantiable\u001b[0m\u001b[0;34m\u001b[0m\u001b[0;34m\u001b[0m\u001b[0m\n\u001b[0m\u001b[1;32m    911\u001b[0m \u001b[0;34m\u001b[0m\u001b[0m\n",
            "\u001b[0;31m_InactiveRpcError\u001b[0m: <_InactiveRpcError of RPC that terminated with:\n\tstatus = StatusCode.UNAVAILABLE\n\tdetails = \"Getting metadata from plugin failed with error: (\"Failed to retrieve http://metadata.google.internal/computeMetadata/v1/instance/service-accounts/default/?recursive=true from the Google Compute Engine metadata service. Status: 404 Response:\\nb''\", <google.auth.transport.requests._Response object at 0x7f7775c8d270>)\"\n\tdebug_error_string = \"UNKNOWN:Error received from peer  {grpc_message:\"Getting metadata from plugin failed with error: (\\\"Failed to retrieve http://metadata.google.internal/computeMetadata/v1/instance/service-accounts/default/?recursive=true from the Google Compute Engine metadata service. Status: 404 Response:\\\\nb\\'\\'\\\", <google.auth.transport.requests._Response object at 0x7f7775c8d270>)\", grpc_status:14, created_time:\"2023-06-16T14:45:56.244330008+00:00\"}\"\n>",
            "\nThe above exception was the direct cause of the following exception:\n",
            "\u001b[0;31mServiceUnavailable\u001b[0m                        Traceback (most recent call last)",
            "\u001b[0;32m<ipython-input-32-bc91cdeffd04>\u001b[0m in \u001b[0;36m<cell line: 9>\u001b[0;34m()\u001b[0m\n\u001b[1;32m      7\u001b[0m )\n\u001b[1;32m      8\u001b[0m \u001b[0;34m\u001b[0m\u001b[0m\n\u001b[0;32m----> 9\u001b[0;31m model = job.run(\n\u001b[0m\u001b[1;32m     10\u001b[0m     \u001b[0mmodel_display_name\u001b[0m\u001b[0;34m=\u001b[0m\u001b[0;34m'mnisttraining'\u001b[0m\u001b[0;34m,\u001b[0m\u001b[0;34m\u001b[0m\u001b[0;34m\u001b[0m\u001b[0m\n\u001b[1;32m     11\u001b[0m     \u001b[0mreplica_count\u001b[0m\u001b[0;34m=\u001b[0m\u001b[0;36m1\u001b[0m\u001b[0;34m,\u001b[0m\u001b[0;34m\u001b[0m\u001b[0;34m\u001b[0m\u001b[0m\n",
            "\u001b[0;32m/usr/local/lib/python3.10/dist-packages/google/cloud/aiplatform/training_jobs.py\u001b[0m in \u001b[0;36mrun\u001b[0;34m(self, dataset, annotation_schema_uri, model_display_name, model_labels, model_id, parent_model, is_default_version, model_version_aliases, model_version_description, base_output_dir, service_account, network, bigquery_destination, args, environment_variables, replica_count, machine_type, accelerator_type, accelerator_count, boot_disk_type, boot_disk_size_gb, reduction_server_replica_count, reduction_server_machine_type, reduction_server_container_uri, training_fraction_split, validation_fraction_split, test_fraction_split, training_filter_split, validation_filter_split, test_filter_split, predefined_split_column_name, timestamp_split_column_name, timeout, restart_job_on_worker_restart, enable_web_access, enable_dashboard_access, tensorboard, sync, create_request_timeout)\u001b[0m\n\u001b[1;32m   4160\u001b[0m         )\n\u001b[1;32m   4161\u001b[0m \u001b[0;34m\u001b[0m\u001b[0m\n\u001b[0;32m-> 4162\u001b[0;31m         return self._run(\n\u001b[0m\u001b[1;32m   4163\u001b[0m             \u001b[0mdataset\u001b[0m\u001b[0;34m=\u001b[0m\u001b[0mdataset\u001b[0m\u001b[0;34m,\u001b[0m\u001b[0;34m\u001b[0m\u001b[0;34m\u001b[0m\u001b[0m\n\u001b[1;32m   4164\u001b[0m             \u001b[0mannotation_schema_uri\u001b[0m\u001b[0;34m=\u001b[0m\u001b[0mannotation_schema_uri\u001b[0m\u001b[0;34m,\u001b[0m\u001b[0;34m\u001b[0m\u001b[0;34m\u001b[0m\u001b[0m\n",
            "\u001b[0;32m/usr/local/lib/python3.10/dist-packages/google/cloud/aiplatform/base.py\u001b[0m in \u001b[0;36mwrapper\u001b[0;34m(*args, **kwargs)\u001b[0m\n\u001b[1;32m    812\u001b[0m                 \u001b[0;32mif\u001b[0m \u001b[0mself\u001b[0m\u001b[0;34m:\u001b[0m\u001b[0;34m\u001b[0m\u001b[0;34m\u001b[0m\u001b[0m\n\u001b[1;32m    813\u001b[0m                     \u001b[0mVertexAiResourceNounWithFutureManager\u001b[0m\u001b[0;34m.\u001b[0m\u001b[0mwait\u001b[0m\u001b[0;34m(\u001b[0m\u001b[0mself\u001b[0m\u001b[0;34m)\u001b[0m\u001b[0;34m\u001b[0m\u001b[0;34m\u001b[0m\u001b[0m\n\u001b[0;32m--> 814\u001b[0;31m                 \u001b[0;32mreturn\u001b[0m \u001b[0mmethod\u001b[0m\u001b[0;34m(\u001b[0m\u001b[0;34m*\u001b[0m\u001b[0margs\u001b[0m\u001b[0;34m,\u001b[0m \u001b[0;34m**\u001b[0m\u001b[0mkwargs\u001b[0m\u001b[0;34m)\u001b[0m\u001b[0;34m\u001b[0m\u001b[0;34m\u001b[0m\u001b[0m\n\u001b[0m\u001b[1;32m    815\u001b[0m \u001b[0;34m\u001b[0m\u001b[0m\n\u001b[1;32m    816\u001b[0m             \u001b[0;31m# callbacks to call within the Future (in same Thread)\u001b[0m\u001b[0;34m\u001b[0m\u001b[0;34m\u001b[0m\u001b[0m\n",
            "\u001b[0;32m/usr/local/lib/python3.10/dist-packages/google/cloud/aiplatform/training_jobs.py\u001b[0m in \u001b[0;36m_run\u001b[0;34m(self, dataset, annotation_schema_uri, worker_pool_specs, managed_model, model_id, parent_model, is_default_version, model_version_aliases, model_version_description, args, environment_variables, base_output_dir, service_account, network, bigquery_destination, training_fraction_split, validation_fraction_split, test_fraction_split, training_filter_split, validation_filter_split, test_filter_split, predefined_split_column_name, timestamp_split_column_name, timeout, restart_job_on_worker_restart, enable_web_access, enable_dashboard_access, tensorboard, reduction_server_container_uri, sync, create_request_timeout)\u001b[0m\n\u001b[1;32m   4464\u001b[0m         )\n\u001b[1;32m   4465\u001b[0m \u001b[0;34m\u001b[0m\u001b[0m\n\u001b[0;32m-> 4466\u001b[0;31m         model = self._run_job(\n\u001b[0m\u001b[1;32m   4467\u001b[0m             \u001b[0mtraining_task_definition\u001b[0m\u001b[0;34m=\u001b[0m\u001b[0mschema\u001b[0m\u001b[0;34m.\u001b[0m\u001b[0mtraining_job\u001b[0m\u001b[0;34m.\u001b[0m\u001b[0mdefinition\u001b[0m\u001b[0;34m.\u001b[0m\u001b[0mcustom_task\u001b[0m\u001b[0;34m,\u001b[0m\u001b[0;34m\u001b[0m\u001b[0;34m\u001b[0m\u001b[0m\n\u001b[1;32m   4468\u001b[0m             \u001b[0mtraining_task_inputs\u001b[0m\u001b[0;34m=\u001b[0m\u001b[0mtraining_task_inputs\u001b[0m\u001b[0;34m,\u001b[0m\u001b[0;34m\u001b[0m\u001b[0;34m\u001b[0m\u001b[0m\n",
            "\u001b[0;32m/usr/local/lib/python3.10/dist-packages/google/cloud/aiplatform/training_jobs.py\u001b[0m in \u001b[0;36m_run_job\u001b[0;34m(self, training_task_definition, training_task_inputs, dataset, training_fraction_split, validation_fraction_split, test_fraction_split, training_filter_split, validation_filter_split, test_filter_split, predefined_split_column_name, timestamp_split_column_name, annotation_schema_uri, model, model_id, parent_model, is_default_version, model_version_aliases, model_version_description, gcs_destination_uri_prefix, bigquery_destination, create_request_timeout)\u001b[0m\n\u001b[1;32m    810\u001b[0m         )\n\u001b[1;32m    811\u001b[0m \u001b[0;34m\u001b[0m\u001b[0m\n\u001b[0;32m--> 812\u001b[0;31m         training_pipeline = self.api_client.create_training_pipeline(\n\u001b[0m\u001b[1;32m    813\u001b[0m             parent=initializer.global_config.common_location_path(\n\u001b[1;32m    814\u001b[0m                 \u001b[0mself\u001b[0m\u001b[0;34m.\u001b[0m\u001b[0mproject\u001b[0m\u001b[0;34m,\u001b[0m \u001b[0mself\u001b[0m\u001b[0;34m.\u001b[0m\u001b[0mlocation\u001b[0m\u001b[0;34m\u001b[0m\u001b[0;34m\u001b[0m\u001b[0m\n",
            "\u001b[0;32m/usr/local/lib/python3.10/dist-packages/google/cloud/aiplatform_v1/services/pipeline_service/client.py\u001b[0m in \u001b[0;36mcreate_training_pipeline\u001b[0;34m(self, request, parent, training_pipeline, retry, timeout, metadata)\u001b[0m\n\u001b[1;32m    758\u001b[0m \u001b[0;34m\u001b[0m\u001b[0m\n\u001b[1;32m    759\u001b[0m         \u001b[0;31m# Send the request.\u001b[0m\u001b[0;34m\u001b[0m\u001b[0;34m\u001b[0m\u001b[0m\n\u001b[0;32m--> 760\u001b[0;31m         response = rpc(\n\u001b[0m\u001b[1;32m    761\u001b[0m             \u001b[0mrequest\u001b[0m\u001b[0;34m,\u001b[0m\u001b[0;34m\u001b[0m\u001b[0;34m\u001b[0m\u001b[0m\n\u001b[1;32m    762\u001b[0m             \u001b[0mretry\u001b[0m\u001b[0;34m=\u001b[0m\u001b[0mretry\u001b[0m\u001b[0;34m,\u001b[0m\u001b[0;34m\u001b[0m\u001b[0;34m\u001b[0m\u001b[0m\n",
            "\u001b[0;32m/usr/local/lib/python3.10/dist-packages/google/api_core/gapic_v1/method.py\u001b[0m in \u001b[0;36m__call__\u001b[0;34m(self, timeout, retry, *args, **kwargs)\u001b[0m\n\u001b[1;32m    111\u001b[0m             \u001b[0mkwargs\u001b[0m\u001b[0;34m[\u001b[0m\u001b[0;34m\"metadata\"\u001b[0m\u001b[0;34m]\u001b[0m \u001b[0;34m=\u001b[0m \u001b[0mmetadata\u001b[0m\u001b[0;34m\u001b[0m\u001b[0;34m\u001b[0m\u001b[0m\n\u001b[1;32m    112\u001b[0m \u001b[0;34m\u001b[0m\u001b[0m\n\u001b[0;32m--> 113\u001b[0;31m         \u001b[0;32mreturn\u001b[0m \u001b[0mwrapped_func\u001b[0m\u001b[0;34m(\u001b[0m\u001b[0;34m*\u001b[0m\u001b[0margs\u001b[0m\u001b[0;34m,\u001b[0m \u001b[0;34m**\u001b[0m\u001b[0mkwargs\u001b[0m\u001b[0;34m)\u001b[0m\u001b[0;34m\u001b[0m\u001b[0;34m\u001b[0m\u001b[0m\n\u001b[0m\u001b[1;32m    114\u001b[0m \u001b[0;34m\u001b[0m\u001b[0m\n\u001b[1;32m    115\u001b[0m \u001b[0;34m\u001b[0m\u001b[0m\n",
            "\u001b[0;32m/usr/local/lib/python3.10/dist-packages/google/api_core/grpc_helpers.py\u001b[0m in \u001b[0;36merror_remapped_callable\u001b[0;34m(*args, **kwargs)\u001b[0m\n\u001b[1;32m     72\u001b[0m             \u001b[0;32mreturn\u001b[0m \u001b[0mcallable_\u001b[0m\u001b[0;34m(\u001b[0m\u001b[0;34m*\u001b[0m\u001b[0margs\u001b[0m\u001b[0;34m,\u001b[0m \u001b[0;34m**\u001b[0m\u001b[0mkwargs\u001b[0m\u001b[0;34m)\u001b[0m\u001b[0;34m\u001b[0m\u001b[0;34m\u001b[0m\u001b[0m\n\u001b[1;32m     73\u001b[0m         \u001b[0;32mexcept\u001b[0m \u001b[0mgrpc\u001b[0m\u001b[0;34m.\u001b[0m\u001b[0mRpcError\u001b[0m \u001b[0;32mas\u001b[0m \u001b[0mexc\u001b[0m\u001b[0;34m:\u001b[0m\u001b[0;34m\u001b[0m\u001b[0;34m\u001b[0m\u001b[0m\n\u001b[0;32m---> 74\u001b[0;31m             \u001b[0;32mraise\u001b[0m \u001b[0mexceptions\u001b[0m\u001b[0;34m.\u001b[0m\u001b[0mfrom_grpc_error\u001b[0m\u001b[0;34m(\u001b[0m\u001b[0mexc\u001b[0m\u001b[0;34m)\u001b[0m \u001b[0;32mfrom\u001b[0m \u001b[0mexc\u001b[0m\u001b[0;34m\u001b[0m\u001b[0;34m\u001b[0m\u001b[0m\n\u001b[0m\u001b[1;32m     75\u001b[0m \u001b[0;34m\u001b[0m\u001b[0m\n\u001b[1;32m     76\u001b[0m     \u001b[0;32mreturn\u001b[0m \u001b[0merror_remapped_callable\u001b[0m\u001b[0;34m\u001b[0m\u001b[0;34m\u001b[0m\u001b[0m\n",
            "\u001b[0;31mServiceUnavailable\u001b[0m: 503 Getting metadata from plugin failed with error: (\"Failed to retrieve http://metadata.google.internal/computeMetadata/v1/instance/service-accounts/default/?recursive=true from the Google Compute Engine metadata service. Status: 404 Response:\\nb''\", <google.auth.transport.requests._Response object at 0x7f7775c8d270>)"
          ]
        }
      ],
      "source": [
        "# launch training job\n",
        "\n",
        "job = aiplatform.CustomContainerTrainingJob(\n",
        "    display_name=\"fashion-mnist-linear-stack-model\",\n",
        "    container_uri=IMAGE_URI,\n",
        "    model_serving_container_image_uri=\"europe-docker.pkg.dev/vertex-ai/prediction/pytorch-gpu.1-13:latest\"\n",
        ")\n",
        "\n",
        "model = job.run(\n",
        "    model_display_name='mnisttraining',\n",
        "    replica_count=1,\n",
        "    machine_type=\"c2-standard-4\",\n",
        "    service_account=f\"vertex-custom-training-sunbird@{PROJECT_ID}.iam.gserviceaccount.com\"\n",
        ")"
      ]
    },
    {
      "cell_type": "code",
      "execution_count": null,
      "metadata": {
        "id": "6ZxAxycnV22Z"
      },
      "outputs": [],
      "source": []
    }
  ],
  "metadata": {
    "colab": {
      "provenance": [],
      "authorship_tag": "ABX9TyOpcBX7e7heZysMQoLCiSKa",
      "include_colab_link": true
    },
    "kernelspec": {
      "display_name": "Python 3",
      "name": "python3"
    },
    "language_info": {
      "name": "python"
    }
  },
  "nbformat": 4,
  "nbformat_minor": 0
}